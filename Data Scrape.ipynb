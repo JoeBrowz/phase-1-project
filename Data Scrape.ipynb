{
 "cells": [
  {
   "cell_type": "markdown",
   "metadata": {},
   "source": [
    "# Gather Data\n",
    "## Import Python Packages"
   ]
  },
  {
   "cell_type": "code",
   "execution_count": 1,
   "metadata": {},
   "outputs": [],
   "source": [
    "# Your code here - remember to use markdown cells for comments as well!\n",
    "import pandas as pd \n",
    "import numpy as np\n",
    "import seaborn as sns\n",
    "from re import sub\n",
    "import json\n",
    "import requests\n",
    "import time\n",
    "from bs4 import BeautifulSoup as bs\n",
    "\n",
    "sns.set_style(\"darkgrid\")"
   ]
  },
  {
   "cell_type": "code",
   "execution_count": 2,
   "metadata": {},
   "outputs": [],
   "source": [
    "%%capture\n",
    "from tqdm import tqdm_notebook as tqdm"
   ]
  },
  {
   "cell_type": "code",
   "execution_count": 3,
   "metadata": {},
   "outputs": [],
   "source": [
    "def get_keys(path):\n",
    "    with open(path) as f:\n",
    "        return json.load(f)"
   ]
  },
  {
   "cell_type": "markdown",
   "metadata": {},
   "source": [
    "## Gather list of Movies IDs"
   ]
  },
  {
   "cell_type": "code",
   "execution_count": 43,
   "metadata": {},
   "outputs": [],
   "source": [
    "keys = get_keys(\"/Users/browz/.secret/tmdb_api.json\")\n",
    "api_key = keys['api_key']"
   ]
  },
  {
   "cell_type": "markdown",
   "metadata": {},
   "source": [
    "Get list of movie IDs\n",
    "\n",
    "Then get details"
   ]
  },
  {
   "cell_type": "code",
   "execution_count": 571,
   "metadata": {},
   "outputs": [
    {
     "data": {
      "application/vnd.jupyter.widget-view+json": {
       "model_id": "8296de117eca4adeb1a58c099a261226",
       "version_major": 2,
       "version_minor": 0
      },
      "text/plain": [
       "HBox(children=(IntProgress(value=0, max=500), HTML(value='')))"
      ]
     },
     "metadata": {},
     "output_type": "display_data"
    },
    {
     "name": "stdout",
     "output_type": "stream",
     "text": [
      "\n"
     ]
    }
   ],
   "source": [
    "url = \"https://api.themoviedb.org/3/discover/movie?api_key={}\".format(api_key)\n",
    "\n",
    "mov_ids = []\n",
    "for page in tqdm(range(1, 501)):\n",
    "    url_params = {'page': page,\n",
    "                  'language': 'en-US',\n",
    "                  'include_adult': False,\n",
    "                  'include_video': False,\n",
    "                  'vote_count_gte': '300'\n",
    "    }\n",
    "\n",
    "    resp = requests.get(url, url_params)\n",
    "    \n",
    "    assert(resp.status_code == 200)\n",
    "    \n",
    "    content = resp.json()\n",
    "    mov_ids.extend([x['id'] for x in content['results']])"
   ]
  },
  {
   "cell_type": "code",
   "execution_count": 87,
   "metadata": {},
   "outputs": [
    {
     "data": {
      "text/plain": [
       "10000"
      ]
     },
     "execution_count": 87,
     "metadata": {},
     "output_type": "execute_result"
    }
   ],
   "source": []
  },
  {
   "cell_type": "code",
   "execution_count": 150,
   "metadata": {},
   "outputs": [
    {
     "data": {
      "text/plain": [
       "726664"
      ]
     },
     "execution_count": 150,
     "metadata": {},
     "output_type": "execute_result"
    }
   ],
   "source": [
    "mov_ids[np.random.randint(0,1000)]"
   ]
  },
  {
   "cell_type": "markdown",
   "metadata": {},
   "source": [
    "## Collect Movie Meta-Data"
   ]
  },
  {
   "cell_type": "code",
   "execution_count": 151,
   "metadata": {},
   "outputs": [
    {
     "data": {
      "application/vnd.jupyter.widget-view+json": {
       "model_id": "41e6118ce4554546b8a6089d00f9f632",
       "version_major": 2,
       "version_minor": 0
      },
      "text/plain": [
       "HBox(children=(IntProgress(value=0, max=10000), HTML(value='')))"
      ]
     },
     "metadata": {},
     "output_type": "display_data"
    },
    {
     "name": "stdout",
     "output_type": "stream",
     "text": [
      "\n"
     ]
    }
   ],
   "source": [
    "movs = []\n",
    "\n",
    "for id in tqdm(mov_ids):\n",
    "    url = \"https://api.themoviedb.org/3/movie/{}?api_key={}&language=en-US\".format(id, api_key)\n",
    "    resp = requests.get(url)\n",
    "    content = resp.json()\n",
    "    movs.append(content)"
   ]
  },
  {
   "cell_type": "code",
   "execution_count": 152,
   "metadata": {},
   "outputs": [],
   "source": [
    "mov_df = pd.DataFrame(movs)"
   ]
  },
  {
   "cell_type": "code",
   "execution_count": 153,
   "metadata": {},
   "outputs": [
    {
     "data": {
      "text/plain": [
       "(10000, 28)"
      ]
     },
     "execution_count": 153,
     "metadata": {},
     "output_type": "execute_result"
    }
   ],
   "source": [
    "mov_df.shape"
   ]
  },
  {
   "cell_type": "code",
   "execution_count": 96,
   "metadata": {},
   "outputs": [],
   "source": [
    "mov_df.to_csv('data/en_csv')"
   ]
  },
  {
   "cell_type": "code",
   "execution_count": 90,
   "metadata": {},
   "outputs": [],
   "source": [
    "mov_df2 = pd.read_csv(\"data/five_year.csv\")"
   ]
  },
  {
   "cell_type": "markdown",
   "metadata": {},
   "source": [
    "# Cleaning Data"
   ]
  },
  {
   "cell_type": "code",
   "execution_count": 91,
   "metadata": {
    "collapsed": true
   },
   "outputs": [
    {
     "name": "stdout",
     "output_type": "stream",
     "text": [
      "(49978, 30)\n"
     ]
    },
    {
     "data": {
      "text/plain": [
       "0.0            47976\n",
       "10000.0           20\n",
       "1.0               12\n",
       "1500000.0         12\n",
       "10.0               8\n",
       "               ...  \n",
       "290061297.0        1\n",
       "70821.0            1\n",
       "1657449.0          1\n",
       "40462793.0         1\n",
       "310286.0           1\n",
       "Name: revenue, Length: 1802, dtype: int64"
      ]
     },
     "execution_count": 91,
     "metadata": {},
     "output_type": "execute_result"
    }
   ],
   "source": [
    "print(mov_df2.shape)\n",
    "mov_df2['revenue'].value_counts()"
   ]
  },
  {
   "cell_type": "code",
   "execution_count": 92,
   "metadata": {},
   "outputs": [],
   "source": [
    "mov_df2.drop(mov_df2[mov_df2['budget'] < 50001].index, inplace=True)\n",
    "mov_df2.drop(mov_df2[mov_df2['revenue'] < 50001].index, inplace=True)\n",
    "# mov_df2.drop(mov_df2[mov_df2['vote_average'] < .01].index, inplace=True)\n",
    "\n",
    "mov_df2['genres'].dropna(inplace=True)\n",
    "mov_df2['budget'].dropna(inplace=True)\n",
    "mov_df2['revenue'].dropna(inplace=True)\n",
    "mov_df2['vote_average'].dropna(inplace=True)"
   ]
  },
  {
   "cell_type": "code",
   "execution_count": 93,
   "metadata": {},
   "outputs": [
    {
     "data": {
      "text/plain": [
       "36248     0.0\n",
       "19630     0.0\n",
       "18368     0.0\n",
       "17587     0.0\n",
       "4869      0.0\n",
       "         ... \n",
       "9183     10.0\n",
       "36932    10.0\n",
       "47911    10.0\n",
       "17917    10.0\n",
       "6442     10.0\n",
       "Name: vote_average, Length: 991, dtype: float64"
      ]
     },
     "execution_count": 93,
     "metadata": {},
     "output_type": "execute_result"
    }
   ],
   "source": [
    "mov_df2['vote_average'].sort_values(ascending=True)"
   ]
  },
  {
   "cell_type": "code",
   "execution_count": 94,
   "metadata": {},
   "outputs": [
    {
     "data": {
      "text/plain": [
       "(1022, 30)"
      ]
     },
     "execution_count": 94,
     "metadata": {},
     "output_type": "execute_result"
    }
   ],
   "source": [
    "mov_df2.shape"
   ]
  },
  {
   "cell_type": "code",
   "execution_count": 509,
   "metadata": {},
   "outputs": [
    {
     "data": {
      "text/plain": [
       "Index(['Unnamed: 0', 'adult', 'backdrop_path', 'belongs_to_collection',\n",
       "       'budget', 'genres', 'homepage', 'id', 'imdb_id', 'original_language',\n",
       "       'original_title', 'overview', 'popularity', 'poster_path',\n",
       "       'production_companies', 'production_countries', 'release_date',\n",
       "       'revenue', 'runtime', 'spoken_languages', 'status', 'tagline', 'title',\n",
       "       'video', 'vote_average', 'vote_count', 'success', 'status_code',\n",
       "       'status_message'],\n",
       "      dtype='object')"
      ]
     },
     "execution_count": 509,
     "metadata": {},
     "output_type": "execute_result"
    }
   ],
   "source": [
    "mov_df2.keys()"
   ]
  },
  {
   "cell_type": "code",
   "execution_count": 510,
   "metadata": {},
   "outputs": [
    {
     "data": {
      "text/html": [
       "<div>\n",
       "<style scoped>\n",
       "    .dataframe tbody tr th:only-of-type {\n",
       "        vertical-align: middle;\n",
       "    }\n",
       "\n",
       "    .dataframe tbody tr th {\n",
       "        vertical-align: top;\n",
       "    }\n",
       "\n",
       "    .dataframe thead th {\n",
       "        text-align: right;\n",
       "    }\n",
       "</style>\n",
       "<table border=\"1\" class=\"dataframe\">\n",
       "  <thead>\n",
       "    <tr style=\"text-align: right;\">\n",
       "      <th></th>\n",
       "      <th>Unnamed: 0</th>\n",
       "      <th>adult</th>\n",
       "      <th>backdrop_path</th>\n",
       "      <th>belongs_to_collection</th>\n",
       "      <th>budget</th>\n",
       "      <th>genres</th>\n",
       "      <th>homepage</th>\n",
       "      <th>id</th>\n",
       "      <th>imdb_id</th>\n",
       "      <th>original_language</th>\n",
       "      <th>...</th>\n",
       "      <th>spoken_languages</th>\n",
       "      <th>status</th>\n",
       "      <th>tagline</th>\n",
       "      <th>title</th>\n",
       "      <th>video</th>\n",
       "      <th>vote_average</th>\n",
       "      <th>vote_count</th>\n",
       "      <th>success</th>\n",
       "      <th>status_code</th>\n",
       "      <th>status_message</th>\n",
       "    </tr>\n",
       "  </thead>\n",
       "  <tbody>\n",
       "    <tr>\n",
       "      <th>9</th>\n",
       "      <td>9</td>\n",
       "      <td>False</td>\n",
       "      <td>/2nFzxaAK7JIsk6l7qZ8rFBsa3yW.jpg</td>\n",
       "      <td>{'id': 619537, 'name': 'Train to Busan Collect...</td>\n",
       "      <td>17000000.0</td>\n",
       "      <td>[{'id': 28, 'name': 'Action'}, {'id': 27, 'nam...</td>\n",
       "      <td>https://www.wellgousa.com/films/train-to-busan...</td>\n",
       "      <td>581392.0</td>\n",
       "      <td>tt8850222</td>\n",
       "      <td>ko</td>\n",
       "      <td>...</td>\n",
       "      <td>[{'iso_639_1': 'ko', 'name': '한국어/조선말'}, {'iso...</td>\n",
       "      <td>Released</td>\n",
       "      <td>Escape The Apocalypse</td>\n",
       "      <td>Peninsula</td>\n",
       "      <td>False</td>\n",
       "      <td>7.0</td>\n",
       "      <td>732.0</td>\n",
       "      <td>NaN</td>\n",
       "      <td>NaN</td>\n",
       "      <td>NaN</td>\n",
       "    </tr>\n",
       "    <tr>\n",
       "      <th>10</th>\n",
       "      <td>10</td>\n",
       "      <td>False</td>\n",
       "      <td>/zzWGRw277MNoCs3zhyG3YmYQsXv.jpg</td>\n",
       "      <td>NaN</td>\n",
       "      <td>200000000.0</td>\n",
       "      <td>[{'id': 28, 'name': 'Action'}, {'id': 12, 'nam...</td>\n",
       "      <td>https://movies.disney.com/mulan-2020d</td>\n",
       "      <td>337401.0</td>\n",
       "      <td>tt4566758</td>\n",
       "      <td>en</td>\n",
       "      <td>...</td>\n",
       "      <td>[{'iso_639_1': 'en', 'name': 'English'}]</td>\n",
       "      <td>Released</td>\n",
       "      <td>NaN</td>\n",
       "      <td>Mulan</td>\n",
       "      <td>False</td>\n",
       "      <td>7.2</td>\n",
       "      <td>2809.0</td>\n",
       "      <td>NaN</td>\n",
       "      <td>NaN</td>\n",
       "      <td>NaN</td>\n",
       "    </tr>\n",
       "    <tr>\n",
       "      <th>13</th>\n",
       "      <td>13</td>\n",
       "      <td>False</td>\n",
       "      <td>/wu1uilmhM4TdluKi2ytfz8gidHf.jpg</td>\n",
       "      <td>{'id': 275402, 'name': 'SpongeBob Collection',...</td>\n",
       "      <td>60000000.0</td>\n",
       "      <td>[{'id': 14, 'name': 'Fantasy'}, {'id': 16, 'na...</td>\n",
       "      <td>https://www.spongebobmovie.com/</td>\n",
       "      <td>400160.0</td>\n",
       "      <td>tt4823776</td>\n",
       "      <td>en</td>\n",
       "      <td>...</td>\n",
       "      <td>[{'iso_639_1': 'en', 'name': 'English'}]</td>\n",
       "      <td>Released</td>\n",
       "      <td>They're Not in Bikini Bottom Anymore.</td>\n",
       "      <td>The SpongeBob Movie: Sponge on the Run</td>\n",
       "      <td>False</td>\n",
       "      <td>8.3</td>\n",
       "      <td>1055.0</td>\n",
       "      <td>NaN</td>\n",
       "      <td>NaN</td>\n",
       "      <td>NaN</td>\n",
       "    </tr>\n",
       "    <tr>\n",
       "      <th>32</th>\n",
       "      <td>32</td>\n",
       "      <td>False</td>\n",
       "      <td>/zogWnCSztU8xvabaepQnAwsOtOt.jpg</td>\n",
       "      <td>NaN</td>\n",
       "      <td>30000000.0</td>\n",
       "      <td>[{'id': 28, 'name': 'Action'}, {'id': 80, 'nam...</td>\n",
       "      <td>NaN</td>\n",
       "      <td>531499.0</td>\n",
       "      <td>tt8461224</td>\n",
       "      <td>en</td>\n",
       "      <td>...</td>\n",
       "      <td>[{'iso_639_1': 'es', 'name': 'Español'}, {'iso...</td>\n",
       "      <td>Released</td>\n",
       "      <td>Payback comes with interest.</td>\n",
       "      <td>The Tax Collector</td>\n",
       "      <td>False</td>\n",
       "      <td>6.0</td>\n",
       "      <td>171.0</td>\n",
       "      <td>NaN</td>\n",
       "      <td>NaN</td>\n",
       "      <td>NaN</td>\n",
       "    </tr>\n",
       "    <tr>\n",
       "      <th>37</th>\n",
       "      <td>37</td>\n",
       "      <td>False</td>\n",
       "      <td>/sizHX5VbwlBihaathTQHVGk1jdi.jpg</td>\n",
       "      <td>{'id': 604246, 'name': 'Attraction Collection'...</td>\n",
       "      <td>8819200.0</td>\n",
       "      <td>[{'id': 878, 'name': 'Science Fiction'}]</td>\n",
       "      <td>NaN</td>\n",
       "      <td>514207.0</td>\n",
       "      <td>tt8060328</td>\n",
       "      <td>ru</td>\n",
       "      <td>...</td>\n",
       "      <td>[{'iso_639_1': 'ru', 'name': 'Pусский'}]</td>\n",
       "      <td>Released</td>\n",
       "      <td>NaN</td>\n",
       "      <td>Invasion</td>\n",
       "      <td>False</td>\n",
       "      <td>7.0</td>\n",
       "      <td>415.0</td>\n",
       "      <td>NaN</td>\n",
       "      <td>NaN</td>\n",
       "      <td>NaN</td>\n",
       "    </tr>\n",
       "  </tbody>\n",
       "</table>\n",
       "<p>5 rows × 29 columns</p>\n",
       "</div>"
      ],
      "text/plain": [
       "    Unnamed: 0  adult                     backdrop_path  \\\n",
       "9            9  False  /2nFzxaAK7JIsk6l7qZ8rFBsa3yW.jpg   \n",
       "10          10  False  /zzWGRw277MNoCs3zhyG3YmYQsXv.jpg   \n",
       "13          13  False  /wu1uilmhM4TdluKi2ytfz8gidHf.jpg   \n",
       "32          32  False  /zogWnCSztU8xvabaepQnAwsOtOt.jpg   \n",
       "37          37  False  /sizHX5VbwlBihaathTQHVGk1jdi.jpg   \n",
       "\n",
       "                                belongs_to_collection       budget  \\\n",
       "9   {'id': 619537, 'name': 'Train to Busan Collect...   17000000.0   \n",
       "10                                                NaN  200000000.0   \n",
       "13  {'id': 275402, 'name': 'SpongeBob Collection',...   60000000.0   \n",
       "32                                                NaN   30000000.0   \n",
       "37  {'id': 604246, 'name': 'Attraction Collection'...    8819200.0   \n",
       "\n",
       "                                               genres  \\\n",
       "9   [{'id': 28, 'name': 'Action'}, {'id': 27, 'nam...   \n",
       "10  [{'id': 28, 'name': 'Action'}, {'id': 12, 'nam...   \n",
       "13  [{'id': 14, 'name': 'Fantasy'}, {'id': 16, 'na...   \n",
       "32  [{'id': 28, 'name': 'Action'}, {'id': 80, 'nam...   \n",
       "37           [{'id': 878, 'name': 'Science Fiction'}]   \n",
       "\n",
       "                                             homepage        id    imdb_id  \\\n",
       "9   https://www.wellgousa.com/films/train-to-busan...  581392.0  tt8850222   \n",
       "10              https://movies.disney.com/mulan-2020d  337401.0  tt4566758   \n",
       "13                    https://www.spongebobmovie.com/  400160.0  tt4823776   \n",
       "32                                                NaN  531499.0  tt8461224   \n",
       "37                                                NaN  514207.0  tt8060328   \n",
       "\n",
       "   original_language  ...                                   spoken_languages  \\\n",
       "9                 ko  ...  [{'iso_639_1': 'ko', 'name': '한국어/조선말'}, {'iso...   \n",
       "10                en  ...           [{'iso_639_1': 'en', 'name': 'English'}]   \n",
       "13                en  ...           [{'iso_639_1': 'en', 'name': 'English'}]   \n",
       "32                en  ...  [{'iso_639_1': 'es', 'name': 'Español'}, {'iso...   \n",
       "37                ru  ...           [{'iso_639_1': 'ru', 'name': 'Pусский'}]   \n",
       "\n",
       "      status                                tagline  \\\n",
       "9   Released                  Escape The Apocalypse   \n",
       "10  Released                                    NaN   \n",
       "13  Released  They're Not in Bikini Bottom Anymore.   \n",
       "32  Released           Payback comes with interest.   \n",
       "37  Released                                    NaN   \n",
       "\n",
       "                                     title  video vote_average vote_count  \\\n",
       "9                                Peninsula  False          7.0      732.0   \n",
       "10                                   Mulan  False          7.2     2809.0   \n",
       "13  The SpongeBob Movie: Sponge on the Run  False          8.3     1055.0   \n",
       "32                       The Tax Collector  False          6.0      171.0   \n",
       "37                                Invasion  False          7.0      415.0   \n",
       "\n",
       "    success  status_code status_message  \n",
       "9       NaN          NaN            NaN  \n",
       "10      NaN          NaN            NaN  \n",
       "13      NaN          NaN            NaN  \n",
       "32      NaN          NaN            NaN  \n",
       "37      NaN          NaN            NaN  \n",
       "\n",
       "[5 rows x 29 columns]"
      ]
     },
     "execution_count": 510,
     "metadata": {},
     "output_type": "execute_result"
    }
   ],
   "source": [
    "mov_df2.head()"
   ]
  },
  {
   "cell_type": "code",
   "execution_count": 511,
   "metadata": {},
   "outputs": [],
   "source": [
    "cols = ['id', 'title', 'genres', 'popularity', 'release_date', 'budget', 'revenue', 'vote_average' ]\n",
    "drop_cols = [x for x in mov_df2.columns if x not in cols]"
   ]
  },
  {
   "cell_type": "code",
   "execution_count": 512,
   "metadata": {
    "scrolled": false
   },
   "outputs": [
    {
     "data": {
      "text/html": [
       "<div>\n",
       "<style scoped>\n",
       "    .dataframe tbody tr th:only-of-type {\n",
       "        vertical-align: middle;\n",
       "    }\n",
       "\n",
       "    .dataframe tbody tr th {\n",
       "        vertical-align: top;\n",
       "    }\n",
       "\n",
       "    .dataframe thead th {\n",
       "        text-align: right;\n",
       "    }\n",
       "</style>\n",
       "<table border=\"1\" class=\"dataframe\">\n",
       "  <thead>\n",
       "    <tr style=\"text-align: right;\">\n",
       "      <th></th>\n",
       "      <th>id</th>\n",
       "      <th>title</th>\n",
       "      <th>genres</th>\n",
       "      <th>popularity</th>\n",
       "      <th>release_date</th>\n",
       "      <th>budget</th>\n",
       "      <th>revenue</th>\n",
       "      <th>vote_average</th>\n",
       "    </tr>\n",
       "  </thead>\n",
       "  <tbody>\n",
       "    <tr>\n",
       "      <th>9</th>\n",
       "      <td>581392.0</td>\n",
       "      <td>Peninsula</td>\n",
       "      <td>[{'id': 28, 'name': 'Action'}, {'id': 27, 'nam...</td>\n",
       "      <td>800.753</td>\n",
       "      <td>2020-07-15</td>\n",
       "      <td>17000000.0</td>\n",
       "      <td>35878266.0</td>\n",
       "      <td>7.0</td>\n",
       "    </tr>\n",
       "    <tr>\n",
       "      <th>10</th>\n",
       "      <td>337401.0</td>\n",
       "      <td>Mulan</td>\n",
       "      <td>[{'id': 28, 'name': 'Action'}, {'id': 12, 'nam...</td>\n",
       "      <td>752.021</td>\n",
       "      <td>2020-09-04</td>\n",
       "      <td>200000000.0</td>\n",
       "      <td>57000000.0</td>\n",
       "      <td>7.2</td>\n",
       "    </tr>\n",
       "    <tr>\n",
       "      <th>13</th>\n",
       "      <td>400160.0</td>\n",
       "      <td>The SpongeBob Movie: Sponge on the Run</td>\n",
       "      <td>[{'id': 14, 'name': 'Fantasy'}, {'id': 16, 'na...</td>\n",
       "      <td>1114.882</td>\n",
       "      <td>2020-08-14</td>\n",
       "      <td>60000000.0</td>\n",
       "      <td>4700000.0</td>\n",
       "      <td>8.3</td>\n",
       "    </tr>\n",
       "    <tr>\n",
       "      <th>32</th>\n",
       "      <td>531499.0</td>\n",
       "      <td>The Tax Collector</td>\n",
       "      <td>[{'id': 28, 'name': 'Action'}, {'id': 80, 'nam...</td>\n",
       "      <td>492.096</td>\n",
       "      <td>2020-08-07</td>\n",
       "      <td>30000000.0</td>\n",
       "      <td>942666.0</td>\n",
       "      <td>6.0</td>\n",
       "    </tr>\n",
       "    <tr>\n",
       "      <th>37</th>\n",
       "      <td>514207.0</td>\n",
       "      <td>Invasion</td>\n",
       "      <td>[{'id': 878, 'name': 'Science Fiction'}]</td>\n",
       "      <td>385.953</td>\n",
       "      <td>2020-01-01</td>\n",
       "      <td>8819200.0</td>\n",
       "      <td>32104054.0</td>\n",
       "      <td>7.0</td>\n",
       "    </tr>\n",
       "    <tr>\n",
       "      <th>...</th>\n",
       "      <td>...</td>\n",
       "      <td>...</td>\n",
       "      <td>...</td>\n",
       "      <td>...</td>\n",
       "      <td>...</td>\n",
       "      <td>...</td>\n",
       "      <td>...</td>\n",
       "      <td>...</td>\n",
       "    </tr>\n",
       "    <tr>\n",
       "      <th>9984</th>\n",
       "      <td>2370.0</td>\n",
       "      <td>Topaz</td>\n",
       "      <td>[{'id': 18, 'name': 'Drama'}, {'id': 53, 'name...</td>\n",
       "      <td>9.708</td>\n",
       "      <td>1969-12-17</td>\n",
       "      <td>4000000.0</td>\n",
       "      <td>6000000.0</td>\n",
       "      <td>6.1</td>\n",
       "    </tr>\n",
       "    <tr>\n",
       "      <th>9985</th>\n",
       "      <td>210947.0</td>\n",
       "      <td>Afflicted</td>\n",
       "      <td>[{'id': 27, 'name': 'Horror'}, {'id': 53, 'nam...</td>\n",
       "      <td>11.963</td>\n",
       "      <td>2014-04-04</td>\n",
       "      <td>318000.0</td>\n",
       "      <td>121179.0</td>\n",
       "      <td>6.4</td>\n",
       "    </tr>\n",
       "    <tr>\n",
       "      <th>9990</th>\n",
       "      <td>360814.0</td>\n",
       "      <td>Dangal</td>\n",
       "      <td>[{'id': 18, 'name': 'Drama'}, {'id': 28, 'name...</td>\n",
       "      <td>11.718</td>\n",
       "      <td>2016-12-21</td>\n",
       "      <td>10400000.0</td>\n",
       "      <td>310000000.0</td>\n",
       "      <td>8.1</td>\n",
       "    </tr>\n",
       "    <tr>\n",
       "      <th>9993</th>\n",
       "      <td>219.0</td>\n",
       "      <td>Volver</td>\n",
       "      <td>[{'id': 35, 'name': 'Comedy'}, {'id': 18, 'nam...</td>\n",
       "      <td>11.458</td>\n",
       "      <td>2006-03-16</td>\n",
       "      <td>12899867.0</td>\n",
       "      <td>85582407.0</td>\n",
       "      <td>7.5</td>\n",
       "    </tr>\n",
       "    <tr>\n",
       "      <th>9999</th>\n",
       "      <td>651.0</td>\n",
       "      <td>M*A*S*H</td>\n",
       "      <td>[{'id': 35, 'name': 'Comedy'}, {'id': 18, 'nam...</td>\n",
       "      <td>11.456</td>\n",
       "      <td>1970-02-18</td>\n",
       "      <td>3500000.0</td>\n",
       "      <td>81600000.0</td>\n",
       "      <td>7.1</td>\n",
       "    </tr>\n",
       "  </tbody>\n",
       "</table>\n",
       "<p>4425 rows × 8 columns</p>\n",
       "</div>"
      ],
      "text/plain": [
       "            id                                   title  \\\n",
       "9     581392.0                               Peninsula   \n",
       "10    337401.0                                   Mulan   \n",
       "13    400160.0  The SpongeBob Movie: Sponge on the Run   \n",
       "32    531499.0                       The Tax Collector   \n",
       "37    514207.0                                Invasion   \n",
       "...        ...                                     ...   \n",
       "9984    2370.0                                   Topaz   \n",
       "9985  210947.0                               Afflicted   \n",
       "9990  360814.0                                  Dangal   \n",
       "9993     219.0                                  Volver   \n",
       "9999     651.0                                 M*A*S*H   \n",
       "\n",
       "                                                 genres  popularity  \\\n",
       "9     [{'id': 28, 'name': 'Action'}, {'id': 27, 'nam...     800.753   \n",
       "10    [{'id': 28, 'name': 'Action'}, {'id': 12, 'nam...     752.021   \n",
       "13    [{'id': 14, 'name': 'Fantasy'}, {'id': 16, 'na...    1114.882   \n",
       "32    [{'id': 28, 'name': 'Action'}, {'id': 80, 'nam...     492.096   \n",
       "37             [{'id': 878, 'name': 'Science Fiction'}]     385.953   \n",
       "...                                                 ...         ...   \n",
       "9984  [{'id': 18, 'name': 'Drama'}, {'id': 53, 'name...       9.708   \n",
       "9985  [{'id': 27, 'name': 'Horror'}, {'id': 53, 'nam...      11.963   \n",
       "9990  [{'id': 18, 'name': 'Drama'}, {'id': 28, 'name...      11.718   \n",
       "9993  [{'id': 35, 'name': 'Comedy'}, {'id': 18, 'nam...      11.458   \n",
       "9999  [{'id': 35, 'name': 'Comedy'}, {'id': 18, 'nam...      11.456   \n",
       "\n",
       "     release_date       budget      revenue  vote_average  \n",
       "9      2020-07-15   17000000.0   35878266.0           7.0  \n",
       "10     2020-09-04  200000000.0   57000000.0           7.2  \n",
       "13     2020-08-14   60000000.0    4700000.0           8.3  \n",
       "32     2020-08-07   30000000.0     942666.0           6.0  \n",
       "37     2020-01-01    8819200.0   32104054.0           7.0  \n",
       "...           ...          ...          ...           ...  \n",
       "9984   1969-12-17    4000000.0    6000000.0           6.1  \n",
       "9985   2014-04-04     318000.0     121179.0           6.4  \n",
       "9990   2016-12-21   10400000.0  310000000.0           8.1  \n",
       "9993   2006-03-16   12899867.0   85582407.0           7.5  \n",
       "9999   1970-02-18    3500000.0   81600000.0           7.1  \n",
       "\n",
       "[4425 rows x 8 columns]"
      ]
     },
     "execution_count": 512,
     "metadata": {},
     "output_type": "execute_result"
    }
   ],
   "source": [
    "mov_df = mov_df2.copy()\n",
    "mov_df.drop(columns = drop_cols, inplace=True)\n",
    "mov_df = mov_df.reindex(columns=cols)\n",
    "mov_df"
   ]
  },
  {
   "cell_type": "code",
   "execution_count": 513,
   "metadata": {},
   "outputs": [],
   "source": [
    "mov_df.reset_index(inplace=True)\n",
    "mov_df.drop(4354, inplace=True)\n"
   ]
  },
  {
   "cell_type": "code",
   "execution_count": null,
   "metadata": {},
   "outputs": [],
   "source": [
    "mov_df['ROI'] = mov_df['revenue'] / mov_df['budget']"
   ]
  },
  {
   "cell_type": "markdown",
   "metadata": {},
   "source": [
    "# Sort by Genres"
   ]
  },
  {
   "cell_type": "code",
   "execution_count": 515,
   "metadata": {},
   "outputs": [],
   "source": [
    "eval_genres = eval(mov_df['genres'][0])\n",
    "mov_df.reset_index(inplace=True)"
   ]
  },
  {
   "cell_type": "code",
   "execution_count": 516,
   "metadata": {},
   "outputs": [],
   "source": [
    "lst = []\n",
    "for i in range(mov_df.shape[0]):\n",
    "    try:\n",
    "        lst.append(eval(mov_df.loc[i, 'genres']))\n",
    "    except:\n",
    "        print(i)\n"
   ]
  },
  {
   "cell_type": "markdown",
   "metadata": {},
   "source": [
    "## Reformatting genres to allow for data manipulation"
   ]
  },
  {
   "cell_type": "code",
   "execution_count": 517,
   "metadata": {},
   "outputs": [],
   "source": [
    "mov_df['genres'] = [[x['name'] for x in eval_genres] for eval_genres in lst]"
   ]
  },
  {
   "cell_type": "markdown",
   "metadata": {},
   "source": [
    "### Create a list of unique genres"
   ]
  },
  {
   "cell_type": "code",
   "execution_count": 519,
   "metadata": {},
   "outputs": [],
   "source": [
    "genre_lst = []"
   ]
  },
  {
   "cell_type": "code",
   "execution_count": 565,
   "metadata": {},
   "outputs": [],
   "source": [
    "mov_df['genres'].apply(lambda x: genre_lst.extend(x));"
   ]
  },
  {
   "cell_type": "code",
   "execution_count": 521,
   "metadata": {},
   "outputs": [],
   "source": [
    "for genre in genre_lst:\n",
    "    genre.strip(\",[]'\")\n",
    "genre_set= set(genre_lst)"
   ]
  },
  {
   "cell_type": "markdown",
   "metadata": {},
   "source": [
    "## Making a dictionary containing unique DataFrames for each genre"
   ]
  },
  {
   "cell_type": "code",
   "execution_count": 522,
   "metadata": {},
   "outputs": [],
   "source": [
    "df_dict = {}\n",
    "for genre in genre_set:\n",
    "    df_dict[genre] = mov_df[mov_df['genres'].apply(lambda x: genre in x)].copy()\n",
    "    df_dict[genre].drop(columns = [\"level_0\", \"index\"], axis=1, inplace=True)\n",
    "    "
   ]
  },
  {
   "cell_type": "code",
   "execution_count": 523,
   "metadata": {},
   "outputs": [
    {
     "data": {
      "text/html": [
       "<div>\n",
       "<style scoped>\n",
       "    .dataframe tbody tr th:only-of-type {\n",
       "        vertical-align: middle;\n",
       "    }\n",
       "\n",
       "    .dataframe tbody tr th {\n",
       "        vertical-align: top;\n",
       "    }\n",
       "\n",
       "    .dataframe thead th {\n",
       "        text-align: right;\n",
       "    }\n",
       "</style>\n",
       "<table border=\"1\" class=\"dataframe\">\n",
       "  <thead>\n",
       "    <tr style=\"text-align: right;\">\n",
       "      <th></th>\n",
       "      <th>id</th>\n",
       "      <th>title</th>\n",
       "      <th>genres</th>\n",
       "      <th>popularity</th>\n",
       "      <th>release_date</th>\n",
       "      <th>budget</th>\n",
       "      <th>revenue</th>\n",
       "      <th>vote_average</th>\n",
       "      <th>ROI</th>\n",
       "    </tr>\n",
       "  </thead>\n",
       "  <tbody>\n",
       "    <tr>\n",
       "      <th>13</th>\n",
       "      <td>354912.0</td>\n",
       "      <td>Coco</td>\n",
       "      <td>[Animation, Family, Comedy, Adventure, Fantasy...</td>\n",
       "      <td>256.108</td>\n",
       "      <td>2017-10-27</td>\n",
       "      <td>175000000.0</td>\n",
       "      <td>8.005260e+08</td>\n",
       "      <td>8.2</td>\n",
       "      <td>4.574434</td>\n",
       "    </tr>\n",
       "    <tr>\n",
       "      <th>21</th>\n",
       "      <td>420818.0</td>\n",
       "      <td>The Lion King</td>\n",
       "      <td>[Adventure, Family, Music, Animation]</td>\n",
       "      <td>182.649</td>\n",
       "      <td>2019-07-12</td>\n",
       "      <td>260000000.0</td>\n",
       "      <td>1.656943e+09</td>\n",
       "      <td>7.2</td>\n",
       "      <td>6.372859</td>\n",
       "    </tr>\n",
       "    <tr>\n",
       "      <th>75</th>\n",
       "      <td>335797.0</td>\n",
       "      <td>Sing</td>\n",
       "      <td>[Animation, Comedy, Drama, Family, Music]</td>\n",
       "      <td>96.344</td>\n",
       "      <td>2016-11-23</td>\n",
       "      <td>75000000.0</td>\n",
       "      <td>6.341517e+08</td>\n",
       "      <td>7.0</td>\n",
       "      <td>8.455356</td>\n",
       "    </tr>\n",
       "    <tr>\n",
       "      <th>152</th>\n",
       "      <td>424694.0</td>\n",
       "      <td>Bohemian Rhapsody</td>\n",
       "      <td>[Drama, Music]</td>\n",
       "      <td>78.469</td>\n",
       "      <td>2018-10-24</td>\n",
       "      <td>52000000.0</td>\n",
       "      <td>8.940275e+08</td>\n",
       "      <td>8.0</td>\n",
       "      <td>17.192837</td>\n",
       "    </tr>\n",
       "    <tr>\n",
       "      <th>244</th>\n",
       "      <td>136799.0</td>\n",
       "      <td>Trolls</td>\n",
       "      <td>[Adventure, Family, Comedy, Fantasy, Music, An...</td>\n",
       "      <td>54.171</td>\n",
       "      <td>2016-10-13</td>\n",
       "      <td>125000000.0</td>\n",
       "      <td>3.468645e+08</td>\n",
       "      <td>6.7</td>\n",
       "      <td>2.774916</td>\n",
       "    </tr>\n",
       "    <tr>\n",
       "      <th>...</th>\n",
       "      <td>...</td>\n",
       "      <td>...</td>\n",
       "      <td>...</td>\n",
       "      <td>...</td>\n",
       "      <td>...</td>\n",
       "      <td>...</td>\n",
       "      <td>...</td>\n",
       "      <td>...</td>\n",
       "      <td>...</td>\n",
       "    </tr>\n",
       "    <tr>\n",
       "      <th>4337</th>\n",
       "      <td>212769.0</td>\n",
       "      <td>Make Your Move</td>\n",
       "      <td>[Music]</td>\n",
       "      <td>11.578</td>\n",
       "      <td>2013-08-07</td>\n",
       "      <td>15000000.0</td>\n",
       "      <td>1.583687e+06</td>\n",
       "      <td>6.0</td>\n",
       "      <td>0.105579</td>\n",
       "    </tr>\n",
       "    <tr>\n",
       "      <th>4339</th>\n",
       "      <td>21525.0</td>\n",
       "      <td>Tupac: Resurrection</td>\n",
       "      <td>[Music, Documentary]</td>\n",
       "      <td>13.841</td>\n",
       "      <td>2003-11-14</td>\n",
       "      <td>300000.0</td>\n",
       "      <td>7.808524e+06</td>\n",
       "      <td>7.8</td>\n",
       "      <td>26.028413</td>\n",
       "    </tr>\n",
       "    <tr>\n",
       "      <th>4346</th>\n",
       "      <td>17917.0</td>\n",
       "      <td>Oliver!</td>\n",
       "      <td>[Drama, Family, Music]</td>\n",
       "      <td>11.440</td>\n",
       "      <td>1968-09-26</td>\n",
       "      <td>10000000.0</td>\n",
       "      <td>3.740288e+07</td>\n",
       "      <td>7.0</td>\n",
       "      <td>3.740288</td>\n",
       "    </tr>\n",
       "    <tr>\n",
       "      <th>4378</th>\n",
       "      <td>22309.0</td>\n",
       "      <td>The Fighting Temptations</td>\n",
       "      <td>[Comedy, Music, Romance]</td>\n",
       "      <td>13.620</td>\n",
       "      <td>2003-09-17</td>\n",
       "      <td>15000000.0</td>\n",
       "      <td>3.023858e+07</td>\n",
       "      <td>5.7</td>\n",
       "      <td>2.015905</td>\n",
       "    </tr>\n",
       "    <tr>\n",
       "      <th>4379</th>\n",
       "      <td>14924.0</td>\n",
       "      <td>Sid &amp; Nancy</td>\n",
       "      <td>[Drama, Music, Romance]</td>\n",
       "      <td>10.978</td>\n",
       "      <td>1986-10-24</td>\n",
       "      <td>4000000.0</td>\n",
       "      <td>2.826523e+06</td>\n",
       "      <td>6.9</td>\n",
       "      <td>0.706631</td>\n",
       "    </tr>\n",
       "  </tbody>\n",
       "</table>\n",
       "<p>145 rows × 9 columns</p>\n",
       "</div>"
      ],
      "text/plain": [
       "            id                     title  \\\n",
       "13    354912.0                      Coco   \n",
       "21    420818.0             The Lion King   \n",
       "75    335797.0                      Sing   \n",
       "152   424694.0         Bohemian Rhapsody   \n",
       "244   136799.0                    Trolls   \n",
       "...        ...                       ...   \n",
       "4337  212769.0            Make Your Move   \n",
       "4339   21525.0       Tupac: Resurrection   \n",
       "4346   17917.0                   Oliver!   \n",
       "4378   22309.0  The Fighting Temptations   \n",
       "4379   14924.0               Sid & Nancy   \n",
       "\n",
       "                                                 genres  popularity  \\\n",
       "13    [Animation, Family, Comedy, Adventure, Fantasy...     256.108   \n",
       "21                [Adventure, Family, Music, Animation]     182.649   \n",
       "75            [Animation, Comedy, Drama, Family, Music]      96.344   \n",
       "152                                      [Drama, Music]      78.469   \n",
       "244   [Adventure, Family, Comedy, Fantasy, Music, An...      54.171   \n",
       "...                                                 ...         ...   \n",
       "4337                                            [Music]      11.578   \n",
       "4339                               [Music, Documentary]      13.841   \n",
       "4346                             [Drama, Family, Music]      11.440   \n",
       "4378                           [Comedy, Music, Romance]      13.620   \n",
       "4379                            [Drama, Music, Romance]      10.978   \n",
       "\n",
       "     release_date       budget       revenue  vote_average        ROI  \n",
       "13     2017-10-27  175000000.0  8.005260e+08           8.2   4.574434  \n",
       "21     2019-07-12  260000000.0  1.656943e+09           7.2   6.372859  \n",
       "75     2016-11-23   75000000.0  6.341517e+08           7.0   8.455356  \n",
       "152    2018-10-24   52000000.0  8.940275e+08           8.0  17.192837  \n",
       "244    2016-10-13  125000000.0  3.468645e+08           6.7   2.774916  \n",
       "...           ...          ...           ...           ...        ...  \n",
       "4337   2013-08-07   15000000.0  1.583687e+06           6.0   0.105579  \n",
       "4339   2003-11-14     300000.0  7.808524e+06           7.8  26.028413  \n",
       "4346   1968-09-26   10000000.0  3.740288e+07           7.0   3.740288  \n",
       "4378   2003-09-17   15000000.0  3.023858e+07           5.7   2.015905  \n",
       "4379   1986-10-24    4000000.0  2.826523e+06           6.9   0.706631  \n",
       "\n",
       "[145 rows x 9 columns]"
      ]
     },
     "execution_count": 523,
     "metadata": {},
     "output_type": "execute_result"
    }
   ],
   "source": [
    "df_dict['Music']"
   ]
  },
  {
   "cell_type": "code",
   "execution_count": 525,
   "metadata": {
    "scrolled": true
   },
   "outputs": [
    {
     "name": "stdout",
     "output_type": "stream",
     "text": [
      "All \n",
      "   Mean:     6.204 \n",
      "   Median:   2.342  \n",
      "   Ratings:  6.5\n",
      "Western \n",
      "   Mean:     5.089 \n",
      "   Median:   2.071  \n",
      "   Ratings:  7.0\n",
      "Action \n",
      "   Mean:     3.666 \n",
      "   Median:   2.13  \n",
      "   Ratings:  6.3\n",
      "Science Fiction \n",
      "   Mean:     3.847 \n",
      "   Median:   2.015  \n",
      "   Ratings:  6.3\n",
      "Family \n",
      "   Mean:     5.418 \n",
      "   Median:   2.581  \n",
      "   Ratings:  6.5\n",
      "History \n",
      "   Mean:     2.925 \n",
      "   Median:   1.595  \n",
      "   Ratings:  7.0\n",
      "Documentary \n",
      "   Mean:     30.843 \n",
      "   Median:   6.87  \n",
      "   Ratings:  7.0\n",
      "Thriller \n",
      "   Mean:     4.788 \n",
      "   Median:   2.108  \n",
      "   Ratings:  6.3\n",
      "Fantasy \n",
      "   Mean:     4.52 \n",
      "   Median:   2.28  \n",
      "   Ratings:  6.4\n",
      "Music \n",
      "   Mean:     5.488 \n",
      "   Median:   2.645  \n",
      "   Ratings:  6.7\n",
      "Animation \n",
      "   Mean:     7.313 \n",
      "   Median:   2.806  \n",
      "   Ratings:  6.8\n",
      "TV Movie \n",
      "   Mean:     1.308 \n",
      "   Median:   1.308  \n",
      "   Ratings:  6.6\n",
      "Mystery \n",
      "   Mean:     14.543 \n",
      "   Median:   2.229  \n",
      "   Ratings:  6.4\n",
      "Comedy \n",
      "   Mean:     4.776 \n",
      "   Median:   2.516  \n",
      "   Ratings:  6.3\n",
      "Drama \n",
      "   Mean:     5.152 \n",
      "   Median:   2.169  \n",
      "   Ratings:  6.8\n",
      "Horror \n",
      "   Mean:     16.379 \n",
      "   Median:   2.727  \n",
      "   Ratings:  6.1\n",
      "War \n",
      "   Mean:     4.103 \n",
      "   Median:   1.912  \n",
      "   Ratings:  7.1\n",
      "Crime \n",
      "   Mean:     3.626 \n",
      "   Median:   2.055  \n",
      "   Ratings:  6.5\n",
      "Adventure \n",
      "   Mean:     4.305 \n",
      "   Median:   2.384  \n",
      "   Ratings:  6.4\n",
      "Romance \n",
      "   Mean:     5.31 \n",
      "   Median:   2.541  \n",
      "   Ratings:  6.6\n"
     ]
    }
   ],
   "source": [
    "print('All \\n   Mean:    ', round(mov_df['ROI'].mean(), 3), \n",
    "      '\\n   Median:  ', round(mov_df['ROI'].median(), 3),\n",
    "     ' \\n   Ratings: ', mov_df['vote_average'].median())\n",
    "\n",
    "for genre in genre_set:\n",
    "    print(genre, '\\n   Mean:    ', round(df_dict[genre]['ROI'].mean(), 3), \n",
    "          '\\n   Median:  ', round(df_dict[genre]['ROI'].median(), 3),\n",
    "         ' \\n   Ratings: ', df_dict[genre]['vote_average'].median())"
   ]
  },
  {
   "cell_type": "code",
   "execution_count": 557,
   "metadata": {},
   "outputs": [],
   "source": [
    "median_roi = [mov_df['ROI'].median()]\n",
    "mean_roi = [mov_df['ROI'].mean()]\n",
    "med_rating = [mov_df['vote_average'].median()]"
   ]
  },
  {
   "cell_type": "code",
   "execution_count": 558,
   "metadata": {},
   "outputs": [],
   "source": [
    "for genre in genre_set:\n",
    "    mean_roi.append(round(df_dict[genre]['ROI'].mean(), 3))\n",
    "    median_roi.append(round(df_dict[genre]['ROI'].median(), 3))\n",
    "    med_rating.append(df_dict[genre]['vote_average'].median())"
   ]
  },
  {
   "cell_type": "code",
   "execution_count": 559,
   "metadata": {},
   "outputs": [
    {
     "data": {
      "text/plain": [
       "20"
      ]
     },
     "execution_count": 559,
     "metadata": {},
     "output_type": "execute_result"
    }
   ],
   "source": [
    "ind = ['All']\n",
    "ind.extend(list(genre_set))\n",
    "ser = {'median_roi': median_roi, \n",
    "                    'mean_roi':  mean_roi, \n",
    "                    'med_rating': med_rating}\n",
    "len(median_roi)"
   ]
  },
  {
   "cell_type": "code",
   "execution_count": 560,
   "metadata": {},
   "outputs": [],
   "source": [
    "desc_df = pd.DataFrame(data=ser, index=ind)"
   ]
  },
  {
   "cell_type": "code",
   "execution_count": 564,
   "metadata": {},
   "outputs": [
    {
     "data": {
      "text/html": [
       "<div>\n",
       "<style scoped>\n",
       "    .dataframe tbody tr th:only-of-type {\n",
       "        vertical-align: middle;\n",
       "    }\n",
       "\n",
       "    .dataframe tbody tr th {\n",
       "        vertical-align: top;\n",
       "    }\n",
       "\n",
       "    .dataframe thead th {\n",
       "        text-align: right;\n",
       "    }\n",
       "</style>\n",
       "<table border=\"1\" class=\"dataframe\">\n",
       "  <thead>\n",
       "    <tr style=\"text-align: right;\">\n",
       "      <th></th>\n",
       "      <th>median_roi</th>\n",
       "      <th>mean_roi</th>\n",
       "      <th>med_rating</th>\n",
       "    </tr>\n",
       "  </thead>\n",
       "  <tbody>\n",
       "    <tr>\n",
       "      <th>Documentary</th>\n",
       "      <td>6.870000</td>\n",
       "      <td>30.843000</td>\n",
       "      <td>7.0</td>\n",
       "    </tr>\n",
       "    <tr>\n",
       "      <th>Animation</th>\n",
       "      <td>2.806000</td>\n",
       "      <td>7.313000</td>\n",
       "      <td>6.8</td>\n",
       "    </tr>\n",
       "    <tr>\n",
       "      <th>Horror</th>\n",
       "      <td>2.727000</td>\n",
       "      <td>16.379000</td>\n",
       "      <td>6.1</td>\n",
       "    </tr>\n",
       "    <tr>\n",
       "      <th>Music</th>\n",
       "      <td>2.645000</td>\n",
       "      <td>5.488000</td>\n",
       "      <td>6.7</td>\n",
       "    </tr>\n",
       "    <tr>\n",
       "      <th>Family</th>\n",
       "      <td>2.581000</td>\n",
       "      <td>5.418000</td>\n",
       "      <td>6.5</td>\n",
       "    </tr>\n",
       "    <tr>\n",
       "      <th>Romance</th>\n",
       "      <td>2.541000</td>\n",
       "      <td>5.310000</td>\n",
       "      <td>6.6</td>\n",
       "    </tr>\n",
       "    <tr>\n",
       "      <th>Comedy</th>\n",
       "      <td>2.516000</td>\n",
       "      <td>4.776000</td>\n",
       "      <td>6.3</td>\n",
       "    </tr>\n",
       "    <tr>\n",
       "      <th>Adventure</th>\n",
       "      <td>2.384000</td>\n",
       "      <td>4.305000</td>\n",
       "      <td>6.4</td>\n",
       "    </tr>\n",
       "    <tr>\n",
       "      <th>All</th>\n",
       "      <td>2.342392</td>\n",
       "      <td>6.203925</td>\n",
       "      <td>6.5</td>\n",
       "    </tr>\n",
       "    <tr>\n",
       "      <th>Fantasy</th>\n",
       "      <td>2.280000</td>\n",
       "      <td>4.520000</td>\n",
       "      <td>6.4</td>\n",
       "    </tr>\n",
       "    <tr>\n",
       "      <th>Mystery</th>\n",
       "      <td>2.229000</td>\n",
       "      <td>14.543000</td>\n",
       "      <td>6.4</td>\n",
       "    </tr>\n",
       "    <tr>\n",
       "      <th>Drama</th>\n",
       "      <td>2.169000</td>\n",
       "      <td>5.152000</td>\n",
       "      <td>6.8</td>\n",
       "    </tr>\n",
       "    <tr>\n",
       "      <th>Action</th>\n",
       "      <td>2.130000</td>\n",
       "      <td>3.666000</td>\n",
       "      <td>6.3</td>\n",
       "    </tr>\n",
       "    <tr>\n",
       "      <th>Thriller</th>\n",
       "      <td>2.108000</td>\n",
       "      <td>4.788000</td>\n",
       "      <td>6.3</td>\n",
       "    </tr>\n",
       "    <tr>\n",
       "      <th>Western</th>\n",
       "      <td>2.071000</td>\n",
       "      <td>5.089000</td>\n",
       "      <td>7.0</td>\n",
       "    </tr>\n",
       "    <tr>\n",
       "      <th>Crime</th>\n",
       "      <td>2.055000</td>\n",
       "      <td>3.626000</td>\n",
       "      <td>6.5</td>\n",
       "    </tr>\n",
       "    <tr>\n",
       "      <th>Science Fiction</th>\n",
       "      <td>2.015000</td>\n",
       "      <td>3.847000</td>\n",
       "      <td>6.3</td>\n",
       "    </tr>\n",
       "    <tr>\n",
       "      <th>War</th>\n",
       "      <td>1.912000</td>\n",
       "      <td>4.103000</td>\n",
       "      <td>7.1</td>\n",
       "    </tr>\n",
       "    <tr>\n",
       "      <th>History</th>\n",
       "      <td>1.595000</td>\n",
       "      <td>2.925000</td>\n",
       "      <td>7.0</td>\n",
       "    </tr>\n",
       "    <tr>\n",
       "      <th>TV Movie</th>\n",
       "      <td>1.308000</td>\n",
       "      <td>1.308000</td>\n",
       "      <td>6.6</td>\n",
       "    </tr>\n",
       "  </tbody>\n",
       "</table>\n",
       "</div>"
      ],
      "text/plain": [
       "                 median_roi   mean_roi  med_rating\n",
       "Documentary        6.870000  30.843000         7.0\n",
       "Animation          2.806000   7.313000         6.8\n",
       "Horror             2.727000  16.379000         6.1\n",
       "Music              2.645000   5.488000         6.7\n",
       "Family             2.581000   5.418000         6.5\n",
       "Romance            2.541000   5.310000         6.6\n",
       "Comedy             2.516000   4.776000         6.3\n",
       "Adventure          2.384000   4.305000         6.4\n",
       "All                2.342392   6.203925         6.5\n",
       "Fantasy            2.280000   4.520000         6.4\n",
       "Mystery            2.229000  14.543000         6.4\n",
       "Drama              2.169000   5.152000         6.8\n",
       "Action             2.130000   3.666000         6.3\n",
       "Thriller           2.108000   4.788000         6.3\n",
       "Western            2.071000   5.089000         7.0\n",
       "Crime              2.055000   3.626000         6.5\n",
       "Science Fiction    2.015000   3.847000         6.3\n",
       "War                1.912000   4.103000         7.1\n",
       "History            1.595000   2.925000         7.0\n",
       "TV Movie           1.308000   1.308000         6.6"
      ]
     },
     "execution_count": 564,
     "metadata": {},
     "output_type": "execute_result"
    }
   ],
   "source": [
    "desc_df.sort_values(['median_roi'], ascending = False)"
   ]
  },
  {
   "cell_type": "code",
   "execution_count": null,
   "metadata": {},
   "outputs": [],
   "source": [
    "']"
   ]
  },
  {
   "cell_type": "code",
   "execution_count": null,
   "metadata": {},
   "outputs": [],
   "source": []
  },
  {
   "cell_type": "code",
   "execution_count": null,
   "metadata": {},
   "outputs": [],
   "source": []
  },
  {
   "cell_type": "code",
   "execution_count": 566,
   "metadata": {},
   "outputs": [
    {
     "data": {
      "image/png": "[encoded data removed]",
      "text/plain": [
       "<Figure size 432x288 with 1 Axes>"
      ]
     },
     "metadata": {},
     "output_type": "display_data"
    }
   ],
   "source": [
    "sns.regplot(x=df_dict['Action']['budget'], y=df_dict['Action']['revenue']);"
   ]
  },
  {
   "cell_type": "code",
   "execution_count": 6,
   "metadata": {},
   "outputs": [],
   "source": [
    "df3 = pd.read_csv(\"data/discover.csv\", engine='python')"
   ]
  },
  {
   "cell_type": "code",
   "execution_count": 33,
   "metadata": {},
   "outputs": [
    {
     "data": {
      "text/html": [
       "<div>\n",
       "<style scoped>\n",
       "    .dataframe tbody tr th:only-of-type {\n",
       "        vertical-align: middle;\n",
       "    }\n",
       "\n",
       "    .dataframe tbody tr th {\n",
       "        vertical-align: top;\n",
       "    }\n",
       "\n",
       "    .dataframe thead th {\n",
       "        text-align: right;\n",
       "    }\n",
       "</style>\n",
       "<table border=\"1\" class=\"dataframe\">\n",
       "  <thead>\n",
       "    <tr style=\"text-align: right;\">\n",
       "      <th></th>\n",
       "      <th>Unnamed: 0</th>\n",
       "      <th>popularity</th>\n",
       "      <th>vote_count</th>\n",
       "      <th>video</th>\n",
       "      <th>poster_path</th>\n",
       "      <th>id</th>\n",
       "      <th>adult</th>\n",
       "      <th>backdrop_path</th>\n",
       "      <th>original_language</th>\n",
       "      <th>original_title</th>\n",
       "      <th>genre_ids</th>\n",
       "      <th>title</th>\n",
       "      <th>vote_average</th>\n",
       "      <th>overview</th>\n",
       "      <th>release_date</th>\n",
       "    </tr>\n",
       "  </thead>\n",
       "  <tbody>\n",
       "    <tr>\n",
       "      <th>0</th>\n",
       "      <td>0</td>\n",
       "      <td>306.289</td>\n",
       "      <td>7525.0</td>\n",
       "      <td>False</td>\n",
       "      <td>/tzYkC0vqX8Dokuwynhz1lnWWgWT.jpg</td>\n",
       "      <td>283366.0</td>\n",
       "      <td>False</td>\n",
       "      <td>/ld7V9BjMk2xtiBNcR8savyyk5ca.jpg</td>\n",
       "      <td>en</td>\n",
       "      <td>Miss Peregrine's Home for Peculiar Children</td>\n",
       "      <td>[18, 14, 12, 10751]</td>\n",
       "      <td>Miss Peregrine's Home for Peculiar Children</td>\n",
       "      <td>6.7</td>\n",
       "      <td>A teenager finds himself transported to an isl...</td>\n",
       "      <td>2016-09-28</td>\n",
       "    </tr>\n",
       "    <tr>\n",
       "      <th>1</th>\n",
       "      <td>1</td>\n",
       "      <td>165.302</td>\n",
       "      <td>303.0</td>\n",
       "      <td>False</td>\n",
       "      <td>/4lwh4MX2yCogHflyAYMRbfdnpnm.jpg</td>\n",
       "      <td>420634.0</td>\n",
       "      <td>False</td>\n",
       "      <td>/fBNnj5bQ5YhzPUzxIW1UvLVZepP.jpg</td>\n",
       "      <td>en</td>\n",
       "      <td>Terrifier</td>\n",
       "      <td>[53, 27]</td>\n",
       "      <td>Terrifier</td>\n",
       "      <td>6.3</td>\n",
       "      <td>A maniacal clown named Art terrorizes three yo...</td>\n",
       "      <td>2016-10-15</td>\n",
       "    </tr>\n",
       "    <tr>\n",
       "      <th>2</th>\n",
       "      <td>2</td>\n",
       "      <td>131.741</td>\n",
       "      <td>3734.0</td>\n",
       "      <td>False</td>\n",
       "      <td>/ubLbY97m8lYJ3Fykh7nfiwB5eth.jpg</td>\n",
       "      <td>316727.0</td>\n",
       "      <td>False</td>\n",
       "      <td>/craD86vySKvAkboyeXFnZwHrNA8.jpg</td>\n",
       "      <td>en</td>\n",
       "      <td>The Purge: Election Year</td>\n",
       "      <td>[28, 27, 53]</td>\n",
       "      <td>The Purge: Election Year</td>\n",
       "      <td>6.4</td>\n",
       "      <td>Two years after choosing not to kill the man w...</td>\n",
       "      <td>2016-06-29</td>\n",
       "    </tr>\n",
       "  </tbody>\n",
       "</table>\n",
       "</div>"
      ],
      "text/plain": [
       "  Unnamed: 0 popularity  vote_count  video                       poster_path  \\\n",
       "0          0    306.289      7525.0  False  /tzYkC0vqX8Dokuwynhz1lnWWgWT.jpg   \n",
       "1          1    165.302       303.0  False  /4lwh4MX2yCogHflyAYMRbfdnpnm.jpg   \n",
       "2          2    131.741      3734.0  False  /ubLbY97m8lYJ3Fykh7nfiwB5eth.jpg   \n",
       "\n",
       "         id  adult                     backdrop_path original_language  \\\n",
       "0  283366.0  False  /ld7V9BjMk2xtiBNcR8savyyk5ca.jpg                en   \n",
       "1  420634.0  False  /fBNnj5bQ5YhzPUzxIW1UvLVZepP.jpg                en   \n",
       "2  316727.0  False  /craD86vySKvAkboyeXFnZwHrNA8.jpg                en   \n",
       "\n",
       "                                original_title            genre_ids  \\\n",
       "0  Miss Peregrine's Home for Peculiar Children  [18, 14, 12, 10751]   \n",
       "1                                    Terrifier             [53, 27]   \n",
       "2                     The Purge: Election Year         [28, 27, 53]   \n",
       "\n",
       "                                         title  vote_average  \\\n",
       "0  Miss Peregrine's Home for Peculiar Children           6.7   \n",
       "1                                    Terrifier           6.3   \n",
       "2                     The Purge: Election Year           6.4   \n",
       "\n",
       "                                            overview release_date  \n",
       "0  A teenager finds himself transported to an isl...   2016-09-28  \n",
       "1  A maniacal clown named Art terrorizes three yo...   2016-10-15  \n",
       "2  Two years after choosing not to kill the man w...   2016-06-29  "
      ]
     },
     "execution_count": 33,
     "metadata": {},
     "output_type": "execute_result"
    }
   ],
   "source": [
    "df3.head(3)"
   ]
  },
  {
   "cell_type": "code",
   "execution_count": 56,
   "metadata": {},
   "outputs": [],
   "source": [
    "mov_ids = []\n",
    "years = ['2018', '2019', '2020']\n",
    "# df4 = df3[df3.release_date.str[:4]=='2017']"
   ]
  },
  {
   "cell_type": "code",
   "execution_count": 51,
   "metadata": {},
   "outputs": [],
   "source": [
    "mov_ids = list(df4['id'])\n",
    "# mov_ids.extend([x['id'] for x in content['results']])"
   ]
  },
  {
   "cell_type": "code",
   "execution_count": 57,
   "metadata": {},
   "outputs": [
    {
     "data": {
      "application/vnd.jupyter.widget-view+json": {
       "model_id": "0eed751a53014dbf871491e0a2a67b64",
       "version_major": 2,
       "version_minor": 0
      },
      "text/plain": [
       "HBox(children=(IntProgress(value=0, max=9997), HTML(value='')))"
      ]
     },
     "metadata": {},
     "output_type": "display_data"
    },
    {
     "name": "stdout",
     "output_type": "stream",
     "text": [
      "\n"
     ]
    },
    {
     "data": {
      "application/vnd.jupyter.widget-view+json": {
       "model_id": "2338abdefcc74a0eaaaf29235c81972e",
       "version_major": 2,
       "version_minor": 0
      },
      "text/plain": [
       "HBox(children=(IntProgress(value=0, max=9999), HTML(value='')))"
      ]
     },
     "metadata": {},
     "output_type": "display_data"
    },
    {
     "name": "stdout",
     "output_type": "stream",
     "text": [
      "\n"
     ]
    },
    {
     "data": {
      "application/vnd.jupyter.widget-view+json": {
       "model_id": "81bb10fd8d114a249b5f39eaf18d1e1e",
       "version_major": 2,
       "version_minor": 0
      },
      "text/plain": [
       "HBox(children=(IntProgress(value=0, max=9995), HTML(value='')))"
      ]
     },
     "metadata": {},
     "output_type": "display_data"
    },
    {
     "name": "stdout",
     "output_type": "stream",
     "text": [
      "\n"
     ]
    }
   ],
   "source": [
    "for year in years:\n",
    "    df4 = df3[df3.release_date.str[:4]==year]\n",
    "    mov_ids = list(df4['id'])\n",
    "\n",
    "    movs = []\n",
    "\n",
    "    for id in tqdm(mov_ids):\n",
    "        url = \"https://api.themoviedb.org/3/movie/{}?api_key={}&language=en-US\".format(id, api_key)\n",
    "        resp = requests.get(url)\n",
    "        content = resp.json()\n",
    "        movs.append(content)\n",
    "    \n",
    "    df = pd.DataFrame(movs)\n",
    "    df.to_csv('data/{}.csv'.format(year))"
   ]
  },
  {
   "cell_type": "code",
   "execution_count": 53,
   "metadata": {},
   "outputs": [],
   "source": [
    "year = '2017'\n",
    "df = pd.DataFrame(movs)\n",
    "df.to_csv('data/{}.csv'.format(year))"
   ]
  },
  {
   "cell_type": "code",
   "execution_count": 58,
   "metadata": {},
   "outputs": [],
   "source": [
    "df_16 = pd.read_csv(\"data/2016.csv\")\n",
    "df_17 = pd.read_csv(\"data/2017.csv\")\n",
    "df_18 = pd.read_csv(\"data/2018.csv\")\n",
    "df_19 = pd.read_csv(\"data/2019.csv\")\n",
    "df_20 = pd.read_csv(\"data/2020.csv\")"
   ]
  },
  {
   "cell_type": "code",
   "execution_count": 66,
   "metadata": {},
   "outputs": [
    {
     "data": {
      "text/plain": [
       "0    2020-10-23\n",
       "1    2020-10-16\n",
       "2    2020-10-26\n",
       "3    2020-10-01\n",
       "4    2020-10-23\n",
       "Name: release_date, dtype: object"
      ]
     },
     "execution_count": 66,
     "metadata": {},
     "output_type": "execute_result"
    }
   ],
   "source": [
    "df_20['release_date'].head()"
   ]
  },
  {
   "cell_type": "code",
   "execution_count": 70,
   "metadata": {},
   "outputs": [],
   "source": [
    "df = pd.read_csv(\"data/five_year.csv\")"
   ]
  },
  {
   "cell_type": "markdown",
   "metadata": {},
   "source": [
    "## Scrape IMDB for Box Office Info"
   ]
  },
  {
   "cell_type": "code",
   "execution_count": 4,
   "metadata": {},
   "outputs": [],
   "source": [
    "page = requests.get(\"https://www.imdb.com/title/tt0848228/\")\n",
    "soup = bs(page.content, \"html.parser\")"
   ]
  },
  {
   "cell_type": "code",
   "execution_count": 20,
   "metadata": {},
   "outputs": [],
   "source": [
    "# title_details = soup.find('div', id = \"titleDetails\")\n",
    "# txt_blocks = title_details.find_all('div', class_=\"txt-block\")"
   ]
  },
  {
   "cell_type": "code",
   "execution_count": 21,
   "metadata": {},
   "outputs": [],
   "source": [
    "text_blocks = soup.select('div#titleDetails div.txt_block')"
   ]
  },
  {
   "cell_type": "code",
   "execution_count": 22,
   "metadata": {
    "scrolled": true
   },
   "outputs": [],
   "source": [
    "for id \n",
    "    url = \"https://www.imdb.com/title/{}/\".format(db_id)\n",
    "\n",
    "    for itm in txt_blocks:\n",
    "        try:\n",
    "            if itm.find('h4', class_=\"inline\").text == \"Budget:\": \n",
    "                budget_string = itm.text\n",
    "                budget_lst = [char for char in budget_string if char.isnumeric()]\n",
    "                budget = \"\".join(budget_lst)\n",
    "            if itm.find('h4', class_=\"inline\").text == \"Cumulative Worldwide Gross:\":\n",
    "                rev_string = itm.text\n",
    "                rev_lst = [char for char in rev_string if char.isnumeric()]\n",
    "                revenue = \"\".join(rev_lst)\n",
    "\n",
    "        except:\n",
    "            None\n"
   ]
  },
  {
   "cell_type": "code",
   "execution_count": 23,
   "metadata": {},
   "outputs": [
    {
     "data": {
      "text/plain": [
       "'220000000'"
      ]
     },
     "execution_count": 23,
     "metadata": {},
     "output_type": "execute_result"
    }
   ],
   "source": [
    "budget"
   ]
  },
  {
   "cell_type": "code",
   "execution_count": 21,
   "metadata": {},
   "outputs": [],
   "source": [
    "var = 8\n",
    "try:\n",
    "    if var == 6:\n",
    "        print('6')\n",
    "    if var == 5:\n",
    "        print('5')\n",
    "except:\n",
    "    print('meltdown')"
   ]
  },
  {
   "cell_type": "code",
   "execution_count": null,
   "metadata": {},
   "outputs": [],
   "source": []
  }
 ],
 "metadata": {
  "kernelspec": {
   "display_name": "learn-env",
   "language": "python",
   "name": "learn-env"
  },
  "language_info": {
   "codemirror_mode": {
    "name": "ipython",
    "version": 3
   },
   "file_extension": ".py",
   "mimetype": "text/x-python",
   "name": "python",
   "nbconvert_exporter": "python",
   "pygments_lexer": "ipython3",
   "version": "3.6.9"
  },
  "toc": {
   "base_numbering": 1,
   "nav_menu": {},
   "number_sections": true,
   "sideBar": true,
   "skip_h1_title": false,
   "title_cell": "Table of Contents",
   "title_sidebar": "Contents",
   "toc_cell": false,
   "toc_position": {
    "height": "calc(100% - 180px)",
    "left": "10px",
    "top": "150px",
    "width": "376px"
   },
   "toc_section_display": true,
   "toc_window_display": false
  }
 },
 "nbformat": 4,
 "nbformat_minor": 4
}