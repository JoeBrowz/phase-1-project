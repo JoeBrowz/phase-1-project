{
 "cells": [
  {
   "cell_type": "markdown",
   "metadata": {},
   "source": [
    "# Phase 1 Project Submission\n",
    "\n",
    "Please fill out:\n",
    "* Student name: Ning Chen\n",
    "* Student pace: full time\n",
    "* Scheduled project review date/time: 11/06/2020\n",
    "* Instructor name: Fangfang Lee & Justin Tennenbaum\n",
    "* Blog post URL:"
   ]
  },
  {
   "cell_type": "code",
   "execution_count": 1,
   "metadata": {
    "ExecuteTime": {
     "end_time": "2020-11-09T16:42:16.477059Z",
     "start_time": "2020-11-09T16:42:16.465937Z"
    }
   },
   "outputs": [],
   "source": [
    "import numpy as np\n",
    "import pandas as pd\n",
    "import seaborn as sns\n",
    "import requests\n",
    "import json\n",
    "import time\n",
    "import csv\n",
    "import matplotlib.pyplot as plt\n",
    "%matplotlib inline"
   ]
  },
  {
   "cell_type": "code",
   "execution_count": 2,
   "metadata": {
    "ExecuteTime": {
     "end_time": "2020-11-09T16:35:18.983994Z",
     "start_time": "2020-11-09T16:35:18.964805Z"
    }
   },
   "outputs": [],
   "source": [
    "%%capture\n",
    "#from tqdm import tqdm_notebook as tqdm\n",
    "from tqdm.notebook import tqdm\n",
    "tqdm().pandas()"
   ]
  },
  {
   "cell_type": "code",
   "execution_count": 3,
   "metadata": {
    "ExecuteTime": {
     "start_time": "2020-11-10T04:27:27.635Z"
    },
    "scrolled": true
   },
   "outputs": [
    {
     "data": {
      "application/vnd.jupyter.widget-view+json": {
       "model_id": "12fb8b923f264a829b7e4302be1bb644",
       "version_major": 2,
       "version_minor": 0
      },
      "text/plain": [
       "HBox(children=(FloatProgress(value=0.0, max=10.0), HTML(value='')))"
      ]
     },
     "metadata": {},
     "output_type": "display_data"
    },
    {
     "name": "stdout",
     "output_type": "stream",
     "text": [
      "\n"
     ]
    }
   ],
   "source": [
    "#api_key='2730ba92b1a45c8f1e12a63dcdfbb7d7'\n",
    "f = open('tmdb_api.json')\n",
    "api_key = json.load(f)\n",
    "url = f'https://api.themoviedb.org/3/discover/movie?api_key={api_key}'\n",
    "    \n",
    "ids = []\n",
    "discover = []\n",
    "random = np.random.uniform(0, 0.1, 501)\n",
    "\n",
    "#for i in tqdm.notebook.tqdm(range(1, 101)):\n",
    "for i in tqdm(range(1, 11)):\n",
    "    params = {#'vote_count.gte': 1,\n",
    "             #'sort_by': 'vote_count.desc', \n",
    "             'page': i,\n",
    "             #'primary_release_year': 2020,\n",
    "             'language': 'en-US',\n",
    "             'include_adult': 'false',\n",
    "             'include_video': 'false'}\n",
    "    response = requests.get(url, params)\n",
    "    d = response.json()\n",
    "    discover.extend(d['results'])\n",
    "    ids.extend([d['results'][j]['id'] for j in range(len(d['results']))])\n",
    "    time.sleep(random[i])"
   ]
  },
  {
   "cell_type": "code",
   "execution_count": 31,
   "metadata": {},
   "outputs": [],
   "source": [
    "# df = pd.DataFrame(discover)\n",
    "# df.to_csv('data_TMDB/discover2020.csv')"
   ]
  },
  {
   "cell_type": "code",
   "execution_count": 4,
   "metadata": {
    "ExecuteTime": {
     "end_time": "2020-11-10T04:18:03.984600Z",
     "start_time": "2020-11-10T04:18:03.980591Z"
    }
   },
   "outputs": [
    {
     "data": {
      "text/plain": [
       "(dict_keys(['page', 'total_results', 'total_pages', 'results']), 500, 10)"
      ]
     },
     "execution_count": 4,
     "metadata": {},
     "output_type": "execute_result"
    }
   ],
   "source": [
    "d.keys(),d['total_pages'],d['page']"
   ]
  },
  {
   "cell_type": "code",
   "execution_count": 5,
   "metadata": {
    "ExecuteTime": {
     "end_time": "2020-11-10T04:18:41.630078Z",
     "start_time": "2020-11-10T04:18:32.215841Z"
    },
    "scrolled": true
   },
   "outputs": [
    {
     "data": {
      "application/vnd.jupyter.widget-view+json": {
       "model_id": "50f8e42eebd448e2a68cdb6eec1085aa",
       "version_major": 2,
       "version_minor": 0
      },
      "text/plain": [
       "HBox(children=(FloatProgress(value=0.0, max=200.0), HTML(value='')))"
      ]
     },
     "metadata": {},
     "output_type": "display_data"
    },
    {
     "name": "stdout",
     "output_type": "stream",
     "text": [
      "\n"
     ]
    }
   ],
   "source": [
    "film = []\n",
    "for i in tqdm(ids):\n",
    "    url = f'https://api.themoviedb.org/3/movie/{i}?api_key={api_key}'\n",
    "    params = {'language': 'en-US'}\n",
    "    response = requests.get(url, params)\n",
    "    film.append(response.json())\n",
    "    time.sleep(np.random.uniform(0.1, 0.5))"
   ]
  },
  {
   "cell_type": "code",
   "execution_count": 84,
   "metadata": {},
   "outputs": [],
   "source": [
    "dis = pd.read_csv('data_TMDB/discover.csv',engine='python')\n",
    "df = pd.read_csv('data_TMDB/en_csv.csv')\n",
    "df5 = pd.read_csv('data_TMDB/five_year.csv')"
   ]
  },
  {
   "cell_type": "code",
   "execution_count": 74,
   "metadata": {},
   "outputs": [
    {
     "data": {
      "text/plain": [
       "Index(['Unnamed: 0', 'popularity', 'vote_count', 'video', 'poster_path', 'id',\n",
       "       'adult', 'backdrop_path', 'original_language', 'original_title',\n",
       "       'genre_ids', 'title', 'vote_average', 'overview', 'release_date'],\n",
       "      dtype='object')"
      ]
     },
     "execution_count": 74,
     "metadata": {},
     "output_type": "execute_result"
    }
   ],
   "source": [
    "dis.columns"
   ]
  },
  {
   "cell_type": "code",
   "execution_count": 7,
   "metadata": {
    "ExecuteTime": {
     "end_time": "2020-11-10T04:19:03.219427Z",
     "start_time": "2020-11-10T04:19:03.170410Z"
    }
   },
   "outputs": [
    {
     "data": {
      "text/plain": [
       "Index(['Unnamed: 0', 'adult', 'backdrop_path', 'belongs_to_collection',\n",
       "       'budget', 'genres', 'homepage', 'id', 'imdb_id', 'original_language',\n",
       "       'original_title', 'overview', 'popularity', 'poster_path',\n",
       "       'production_companies', 'production_countries', 'release_date',\n",
       "       'revenue', 'runtime', 'spoken_languages', 'status', 'tagline', 'title',\n",
       "       'video', 'vote_average', 'vote_count', 'success', 'status_code',\n",
       "       'status_message'],\n",
       "      dtype='object')"
      ]
     },
     "execution_count": 7,
     "metadata": {},
     "output_type": "execute_result"
    }
   ],
   "source": [
    "df.columns"
   ]
  },
  {
   "cell_type": "code",
   "execution_count": 76,
   "metadata": {},
   "outputs": [],
   "source": [
    "col_dis=['Unnamed: 0', 'video', 'poster_path','adult', 'backdrop_path', 'overview']\n",
    "\n",
    "col5=['Unnamed: 0', 'Unnamed: 0.1','adult','backdrop_path','belongs_to_collection','homepage','overview','poster_path','production_companies',\n",
    "'production_countries','spoken_languages','status','tagline','video','success','status_code','status_message']\n",
    "\n",
    "col=['Unnamed: 0','adult','backdrop_path','belongs_to_collection','homepage','overview','poster_path','production_companies',\n",
    "'production_countries','spoken_languages','status','tagline','video','success','status_code','status_message']"
   ]
  },
  {
   "cell_type": "code",
   "execution_count": 85,
   "metadata": {
    "scrolled": true
   },
   "outputs": [],
   "source": [
    "df.drop(columns=col,axis=1, inplace=True)\n",
    "df5.drop(columns=col5,axis=1, inplace=True)\n",
    "dis.drop(columns=col_dis,axis=1, inplace=True)"
   ]
  },
  {
   "cell_type": "code",
   "execution_count": 86,
   "metadata": {},
   "outputs": [],
   "source": [
    "dis.dropna(inplace=True)\n",
    "df.dropna(inplace=True)\n",
    "df5.dropna(inplace=True)"
   ]
  },
  {
   "cell_type": "code",
   "execution_count": 87,
   "metadata": {},
   "outputs": [],
   "source": [
    "dis.to_csv('data_TMDB/discover_trim.csv', index=False)\n",
    "df.to_csv('data_TMDB/en_trim.csv', index=False)\n",
    "df5.to_csv('data_TMDB/fiveyear_trim.csv', index=False)"
   ]
  },
  {
   "cell_type": "code",
   "execution_count": null,
   "metadata": {},
   "outputs": [],
   "source": []
  },
  {
   "cell_type": "code",
   "execution_count": 88,
   "metadata": {},
   "outputs": [],
   "source": [
    "dis = pd.read_csv('data_TMDB/discover_trim.csv')\n",
    "df = pd.read_csv('data_TMDB/en_trim.csv')\n",
    "df5 = pd.read_csv('data_TMDB/fiveyear_trim.csv')"
   ]
  },
  {
   "cell_type": "code",
   "execution_count": 91,
   "metadata": {},
   "outputs": [
    {
     "data": {
      "text/html": [
       "<div>\n",
       "<style scoped>\n",
       "    .dataframe tbody tr th:only-of-type {\n",
       "        vertical-align: middle;\n",
       "    }\n",
       "\n",
       "    .dataframe tbody tr th {\n",
       "        vertical-align: top;\n",
       "    }\n",
       "\n",
       "    .dataframe thead th {\n",
       "        text-align: right;\n",
       "    }\n",
       "</style>\n",
       "<table border=\"1\" class=\"dataframe\">\n",
       "  <thead>\n",
       "    <tr style=\"text-align: right;\">\n",
       "      <th></th>\n",
       "      <th>popularity</th>\n",
       "      <th>vote_count</th>\n",
       "      <th>id</th>\n",
       "      <th>original_language</th>\n",
       "      <th>original_title</th>\n",
       "      <th>genre_ids</th>\n",
       "      <th>title</th>\n",
       "      <th>vote_average</th>\n",
       "      <th>release_date</th>\n",
       "    </tr>\n",
       "  </thead>\n",
       "  <tbody>\n",
       "    <tr>\n",
       "      <th>0</th>\n",
       "      <td>306.289</td>\n",
       "      <td>7525.0</td>\n",
       "      <td>283366.0</td>\n",
       "      <td>en</td>\n",
       "      <td>Miss Peregrine's Home for Peculiar Children</td>\n",
       "      <td>[18, 14, 12, 10751]</td>\n",
       "      <td>Miss Peregrine's Home for Peculiar Children</td>\n",
       "      <td>6.7</td>\n",
       "      <td>2016-09-28</td>\n",
       "    </tr>\n",
       "    <tr>\n",
       "      <th>1</th>\n",
       "      <td>165.302</td>\n",
       "      <td>303.0</td>\n",
       "      <td>420634.0</td>\n",
       "      <td>en</td>\n",
       "      <td>Terrifier</td>\n",
       "      <td>[53, 27]</td>\n",
       "      <td>Terrifier</td>\n",
       "      <td>6.3</td>\n",
       "      <td>2016-10-15</td>\n",
       "    </tr>\n",
       "    <tr>\n",
       "      <th>2</th>\n",
       "      <td>131.741</td>\n",
       "      <td>3734.0</td>\n",
       "      <td>316727.0</td>\n",
       "      <td>en</td>\n",
       "      <td>The Purge: Election Year</td>\n",
       "      <td>[28, 27, 53]</td>\n",
       "      <td>The Purge: Election Year</td>\n",
       "      <td>6.4</td>\n",
       "      <td>2016-06-29</td>\n",
       "    </tr>\n",
       "    <tr>\n",
       "      <th>3</th>\n",
       "      <td>130.125</td>\n",
       "      <td>6596.0</td>\n",
       "      <td>372058.0</td>\n",
       "      <td>ja</td>\n",
       "      <td>君の名は。</td>\n",
       "      <td>[10749, 16, 18]</td>\n",
       "      <td>Your Name.</td>\n",
       "      <td>8.6</td>\n",
       "      <td>2016-08-26</td>\n",
       "    </tr>\n",
       "    <tr>\n",
       "      <th>4</th>\n",
       "      <td>96.344</td>\n",
       "      <td>5629.0</td>\n",
       "      <td>335797.0</td>\n",
       "      <td>en</td>\n",
       "      <td>Sing</td>\n",
       "      <td>[16, 35, 18, 10751, 10402]</td>\n",
       "      <td>Sing</td>\n",
       "      <td>7.0</td>\n",
       "      <td>2016-11-23</td>\n",
       "    </tr>\n",
       "    <tr>\n",
       "      <th>...</th>\n",
       "      <td>...</td>\n",
       "      <td>...</td>\n",
       "      <td>...</td>\n",
       "      <td>...</td>\n",
       "      <td>...</td>\n",
       "      <td>...</td>\n",
       "      <td>...</td>\n",
       "      <td>...</td>\n",
       "      <td>...</td>\n",
       "    </tr>\n",
       "    <tr>\n",
       "      <th>49973</th>\n",
       "      <td>1.400</td>\n",
       "      <td>0.0</td>\n",
       "      <td>722607.0</td>\n",
       "      <td>en</td>\n",
       "      <td>Truth to Power</td>\n",
       "      <td>[99]</td>\n",
       "      <td>Truth to Power</td>\n",
       "      <td>0.0</td>\n",
       "      <td>2020-04-15</td>\n",
       "    </tr>\n",
       "    <tr>\n",
       "      <th>49974</th>\n",
       "      <td>0.941</td>\n",
       "      <td>0.0</td>\n",
       "      <td>721979.0</td>\n",
       "      <td>en</td>\n",
       "      <td>No More Darkness, No More Light</td>\n",
       "      <td>[80]</td>\n",
       "      <td>No More Darkness, No More Light</td>\n",
       "      <td>0.0</td>\n",
       "      <td>2020-04-15</td>\n",
       "    </tr>\n",
       "    <tr>\n",
       "      <th>49975</th>\n",
       "      <td>0.703</td>\n",
       "      <td>0.0</td>\n",
       "      <td>712496.0</td>\n",
       "      <td>en</td>\n",
       "      <td>Rizo</td>\n",
       "      <td>[18]</td>\n",
       "      <td>Rizo</td>\n",
       "      <td>0.0</td>\n",
       "      <td>2020-05-10</td>\n",
       "    </tr>\n",
       "    <tr>\n",
       "      <th>49976</th>\n",
       "      <td>0.703</td>\n",
       "      <td>0.0</td>\n",
       "      <td>703093.0</td>\n",
       "      <td>en</td>\n",
       "      <td>Beauty &amp; the Beast</td>\n",
       "      <td>[10751]</td>\n",
       "      <td>Beauty &amp; the Beast</td>\n",
       "      <td>0.0</td>\n",
       "      <td>2020-05-10</td>\n",
       "    </tr>\n",
       "    <tr>\n",
       "      <th>49977</th>\n",
       "      <td>0.954</td>\n",
       "      <td>1.0</td>\n",
       "      <td>689012.0</td>\n",
       "      <td>en</td>\n",
       "      <td>Out of Order</td>\n",
       "      <td>[35]</td>\n",
       "      <td>Out of Order</td>\n",
       "      <td>8.0</td>\n",
       "      <td>2020-02-25</td>\n",
       "    </tr>\n",
       "  </tbody>\n",
       "</table>\n",
       "<p>49978 rows × 9 columns</p>\n",
       "</div>"
      ],
      "text/plain": [
       "       popularity  vote_count        id original_language  \\\n",
       "0         306.289      7525.0  283366.0                en   \n",
       "1         165.302       303.0  420634.0                en   \n",
       "2         131.741      3734.0  316727.0                en   \n",
       "3         130.125      6596.0  372058.0                ja   \n",
       "4          96.344      5629.0  335797.0                en   \n",
       "...           ...         ...       ...               ...   \n",
       "49973       1.400         0.0  722607.0                en   \n",
       "49974       0.941         0.0  721979.0                en   \n",
       "49975       0.703         0.0  712496.0                en   \n",
       "49976       0.703         0.0  703093.0                en   \n",
       "49977       0.954         1.0  689012.0                en   \n",
       "\n",
       "                                    original_title  \\\n",
       "0      Miss Peregrine's Home for Peculiar Children   \n",
       "1                                        Terrifier   \n",
       "2                         The Purge: Election Year   \n",
       "3                                            君の名は。   \n",
       "4                                             Sing   \n",
       "...                                            ...   \n",
       "49973                               Truth to Power   \n",
       "49974              No More Darkness, No More Light   \n",
       "49975                                         Rizo   \n",
       "49976                           Beauty & the Beast   \n",
       "49977                                 Out of Order   \n",
       "\n",
       "                        genre_ids  \\\n",
       "0             [18, 14, 12, 10751]   \n",
       "1                        [53, 27]   \n",
       "2                    [28, 27, 53]   \n",
       "3                 [10749, 16, 18]   \n",
       "4      [16, 35, 18, 10751, 10402]   \n",
       "...                           ...   \n",
       "49973                        [99]   \n",
       "49974                        [80]   \n",
       "49975                        [18]   \n",
       "49976                     [10751]   \n",
       "49977                        [35]   \n",
       "\n",
       "                                             title  vote_average release_date  \n",
       "0      Miss Peregrine's Home for Peculiar Children           6.7   2016-09-28  \n",
       "1                                        Terrifier           6.3   2016-10-15  \n",
       "2                         The Purge: Election Year           6.4   2016-06-29  \n",
       "3                                       Your Name.           8.6   2016-08-26  \n",
       "4                                             Sing           7.0   2016-11-23  \n",
       "...                                            ...           ...          ...  \n",
       "49973                               Truth to Power           0.0   2020-04-15  \n",
       "49974              No More Darkness, No More Light           0.0   2020-04-15  \n",
       "49975                                         Rizo           0.0   2020-05-10  \n",
       "49976                           Beauty & the Beast           0.0   2020-05-10  \n",
       "49977                                 Out of Order           8.0   2020-02-25  \n",
       "\n",
       "[49978 rows x 9 columns]"
      ]
     },
     "execution_count": 91,
     "metadata": {},
     "output_type": "execute_result"
    }
   ],
   "source": [
    "dis"
   ]
  },
  {
   "cell_type": "code",
   "execution_count": null,
   "metadata": {},
   "outputs": [],
   "source": []
  },
  {
   "cell_type": "code",
   "execution_count": 21,
   "metadata": {},
   "outputs": [],
   "source": [
    "dfbr = df[(df['budget']!=0) & (df['revenue']!=0)]\n",
    "df5br = df[(df['budget']!=0) & (df['revenue']!=0)]"
   ]
  },
  {
   "cell_type": "code",
   "execution_count": null,
   "metadata": {},
   "outputs": [],
   "source": []
  },
  {
   "cell_type": "code",
   "execution_count": null,
   "metadata": {},
   "outputs": [],
   "source": []
  },
  {
   "cell_type": "code",
   "execution_count": 22,
   "metadata": {
    "scrolled": true
   },
   "outputs": [
    {
     "data": {
      "text/plain": [
       "((9882, 13), (36975, 13), (4483, 13), (4483, 13))"
      ]
     },
     "execution_count": 22,
     "metadata": {},
     "output_type": "execute_result"
    }
   ],
   "source": [
    "df.shape, df5.shape, dfbr.shape, df5br.shape"
   ]
  },
  {
   "cell_type": "code",
   "execution_count": 73,
   "metadata": {},
   "outputs": [
    {
     "data": {
      "text/html": [
       "<div>\n",
       "<style scoped>\n",
       "    .dataframe tbody tr th:only-of-type {\n",
       "        vertical-align: middle;\n",
       "    }\n",
       "\n",
       "    .dataframe tbody tr th {\n",
       "        vertical-align: top;\n",
       "    }\n",
       "\n",
       "    .dataframe thead th {\n",
       "        text-align: right;\n",
       "    }\n",
       "</style>\n",
       "<table border=\"1\" class=\"dataframe\">\n",
       "  <thead>\n",
       "    <tr style=\"text-align: right;\">\n",
       "      <th></th>\n",
       "      <th>Unnamed: 0</th>\n",
       "      <th>popularity</th>\n",
       "      <th>vote_count</th>\n",
       "      <th>video</th>\n",
       "      <th>poster_path</th>\n",
       "      <th>id</th>\n",
       "      <th>adult</th>\n",
       "      <th>backdrop_path</th>\n",
       "      <th>original_language</th>\n",
       "      <th>original_title</th>\n",
       "      <th>genre_ids</th>\n",
       "      <th>title</th>\n",
       "      <th>vote_average</th>\n",
       "      <th>overview</th>\n",
       "      <th>release_date</th>\n",
       "    </tr>\n",
       "  </thead>\n",
       "  <tbody>\n",
       "    <tr>\n",
       "      <th>0</th>\n",
       "      <td>0</td>\n",
       "      <td>306.289</td>\n",
       "      <td>7525.0</td>\n",
       "      <td>False</td>\n",
       "      <td>/tzYkC0vqX8Dokuwynhz1lnWWgWT.jpg</td>\n",
       "      <td>283366.0</td>\n",
       "      <td>False</td>\n",
       "      <td>/ld7V9BjMk2xtiBNcR8savyyk5ca.jpg</td>\n",
       "      <td>en</td>\n",
       "      <td>Miss Peregrine's Home for Peculiar Children</td>\n",
       "      <td>[18, 14, 12, 10751]</td>\n",
       "      <td>Miss Peregrine's Home for Peculiar Children</td>\n",
       "      <td>6.7</td>\n",
       "      <td>A teenager finds himself transported to an isl...</td>\n",
       "      <td>2016-09-28</td>\n",
       "    </tr>\n",
       "    <tr>\n",
       "      <th>1</th>\n",
       "      <td>1</td>\n",
       "      <td>165.302</td>\n",
       "      <td>303.0</td>\n",
       "      <td>False</td>\n",
       "      <td>/4lwh4MX2yCogHflyAYMRbfdnpnm.jpg</td>\n",
       "      <td>420634.0</td>\n",
       "      <td>False</td>\n",
       "      <td>/fBNnj5bQ5YhzPUzxIW1UvLVZepP.jpg</td>\n",
       "      <td>en</td>\n",
       "      <td>Terrifier</td>\n",
       "      <td>[53, 27]</td>\n",
       "      <td>Terrifier</td>\n",
       "      <td>6.3</td>\n",
       "      <td>A maniacal clown named Art terrorizes three yo...</td>\n",
       "      <td>2016-10-15</td>\n",
       "    </tr>\n",
       "    <tr>\n",
       "      <th>2</th>\n",
       "      <td>2</td>\n",
       "      <td>131.741</td>\n",
       "      <td>3734.0</td>\n",
       "      <td>False</td>\n",
       "      <td>/ubLbY97m8lYJ3Fykh7nfiwB5eth.jpg</td>\n",
       "      <td>316727.0</td>\n",
       "      <td>False</td>\n",
       "      <td>/craD86vySKvAkboyeXFnZwHrNA8.jpg</td>\n",
       "      <td>en</td>\n",
       "      <td>The Purge: Election Year</td>\n",
       "      <td>[28, 27, 53]</td>\n",
       "      <td>The Purge: Election Year</td>\n",
       "      <td>6.4</td>\n",
       "      <td>Two years after choosing not to kill the man w...</td>\n",
       "      <td>2016-06-29</td>\n",
       "    </tr>\n",
       "    <tr>\n",
       "      <th>3</th>\n",
       "      <td>3</td>\n",
       "      <td>130.125</td>\n",
       "      <td>6596.0</td>\n",
       "      <td>False</td>\n",
       "      <td>/q719jXXEzOoYaps6babgKnONONX.jpg</td>\n",
       "      <td>372058.0</td>\n",
       "      <td>False</td>\n",
       "      <td>/mMtUybQ6hL24FXo0F3Z4j2KG7kZ.jpg</td>\n",
       "      <td>ja</td>\n",
       "      <td>君の名は。</td>\n",
       "      <td>[10749, 16, 18]</td>\n",
       "      <td>Your Name.</td>\n",
       "      <td>8.6</td>\n",
       "      <td>High schoolers Mitsuha and Taki are complete s...</td>\n",
       "      <td>2016-08-26</td>\n",
       "    </tr>\n",
       "    <tr>\n",
       "      <th>4</th>\n",
       "      <td>4</td>\n",
       "      <td>96.344</td>\n",
       "      <td>5629.0</td>\n",
       "      <td>False</td>\n",
       "      <td>/lW0kUtXTOVlHTVhDO2VzNBACAHX.jpg</td>\n",
       "      <td>335797.0</td>\n",
       "      <td>False</td>\n",
       "      <td>/z9ft5HYHzWcasR6SGcgeluxTznB.jpg</td>\n",
       "      <td>en</td>\n",
       "      <td>Sing</td>\n",
       "      <td>[16, 35, 18, 10751, 10402]</td>\n",
       "      <td>Sing</td>\n",
       "      <td>7.0</td>\n",
       "      <td>A koala named Buster recruits his best friend ...</td>\n",
       "      <td>2016-11-23</td>\n",
       "    </tr>\n",
       "    <tr>\n",
       "      <th>...</th>\n",
       "      <td>...</td>\n",
       "      <td>...</td>\n",
       "      <td>...</td>\n",
       "      <td>...</td>\n",
       "      <td>...</td>\n",
       "      <td>...</td>\n",
       "      <td>...</td>\n",
       "      <td>...</td>\n",
       "      <td>...</td>\n",
       "      <td>...</td>\n",
       "      <td>...</td>\n",
       "      <td>...</td>\n",
       "      <td>...</td>\n",
       "      <td>...</td>\n",
       "      <td>...</td>\n",
       "    </tr>\n",
       "    <tr>\n",
       "      <th>50076</th>\n",
       "      <td>49994</td>\n",
       "      <td>1.4</td>\n",
       "      <td>0.0</td>\n",
       "      <td>False</td>\n",
       "      <td>NaN</td>\n",
       "      <td>722607.0</td>\n",
       "      <td>False</td>\n",
       "      <td>NaN</td>\n",
       "      <td>en</td>\n",
       "      <td>Truth to Power</td>\n",
       "      <td>[99]</td>\n",
       "      <td>Truth to Power</td>\n",
       "      <td>0.0</td>\n",
       "      <td>The Grammy-winning lead singer of System of a ...</td>\n",
       "      <td>2020-04-15</td>\n",
       "    </tr>\n",
       "    <tr>\n",
       "      <th>50077</th>\n",
       "      <td>49995</td>\n",
       "      <td>0.941</td>\n",
       "      <td>0.0</td>\n",
       "      <td>False</td>\n",
       "      <td>/ti8BFl0DKL6kixK57LN9auJ2rBM.jpg</td>\n",
       "      <td>721979.0</td>\n",
       "      <td>False</td>\n",
       "      <td>NaN</td>\n",
       "      <td>en</td>\n",
       "      <td>No More Darkness, No More Light</td>\n",
       "      <td>[80]</td>\n",
       "      <td>No More Darkness, No More Light</td>\n",
       "      <td>0.0</td>\n",
       "      <td>A woman fresh out of prison for a crime she to...</td>\n",
       "      <td>2020-04-15</td>\n",
       "    </tr>\n",
       "    <tr>\n",
       "      <th>50078</th>\n",
       "      <td>49996</td>\n",
       "      <td>0.703</td>\n",
       "      <td>0.0</td>\n",
       "      <td>False</td>\n",
       "      <td>NaN</td>\n",
       "      <td>712496.0</td>\n",
       "      <td>False</td>\n",
       "      <td>NaN</td>\n",
       "      <td>en</td>\n",
       "      <td>Rizo</td>\n",
       "      <td>[18]</td>\n",
       "      <td>Rizo</td>\n",
       "      <td>0.0</td>\n",
       "      <td>Rizo is the story of an Afro-Latina actress, C...</td>\n",
       "      <td>2020-05-10</td>\n",
       "    </tr>\n",
       "    <tr>\n",
       "      <th>50079</th>\n",
       "      <td>49997</td>\n",
       "      <td>0.703</td>\n",
       "      <td>0.0</td>\n",
       "      <td>False</td>\n",
       "      <td>NaN</td>\n",
       "      <td>703093.0</td>\n",
       "      <td>False</td>\n",
       "      <td>NaN</td>\n",
       "      <td>en</td>\n",
       "      <td>Beauty &amp; the Beast</td>\n",
       "      <td>[10751]</td>\n",
       "      <td>Beauty &amp; the Beast</td>\n",
       "      <td>0.0</td>\n",
       "      <td>Presented by the Atlanta Ballet in 2018.  Long...</td>\n",
       "      <td>2020-05-10</td>\n",
       "    </tr>\n",
       "    <tr>\n",
       "      <th>50080</th>\n",
       "      <td>49998</td>\n",
       "      <td>0.954</td>\n",
       "      <td>1.0</td>\n",
       "      <td>False</td>\n",
       "      <td>/b1BFbrEE4Wtmw4TOSw69UxnoVrl.jpg</td>\n",
       "      <td>689012.0</td>\n",
       "      <td>False</td>\n",
       "      <td>NaN</td>\n",
       "      <td>en</td>\n",
       "      <td>Out of Order</td>\n",
       "      <td>[35]</td>\n",
       "      <td>Out of Order</td>\n",
       "      <td>8.0</td>\n",
       "      <td>A dishevelled public prosecutor attempts to sa...</td>\n",
       "      <td>2020-02-25</td>\n",
       "    </tr>\n",
       "  </tbody>\n",
       "</table>\n",
       "<p>50081 rows × 15 columns</p>\n",
       "</div>"
      ],
      "text/plain": [
       "      Unnamed: 0 popularity  vote_count  video  \\\n",
       "0              0    306.289      7525.0  False   \n",
       "1              1    165.302       303.0  False   \n",
       "2              2    131.741      3734.0  False   \n",
       "3              3    130.125      6596.0  False   \n",
       "4              4     96.344      5629.0  False   \n",
       "...          ...        ...         ...    ...   \n",
       "50076      49994        1.4         0.0  False   \n",
       "50077      49995      0.941         0.0  False   \n",
       "50078      49996      0.703         0.0  False   \n",
       "50079      49997      0.703         0.0  False   \n",
       "50080      49998      0.954         1.0  False   \n",
       "\n",
       "                            poster_path        id  adult  \\\n",
       "0      /tzYkC0vqX8Dokuwynhz1lnWWgWT.jpg  283366.0  False   \n",
       "1      /4lwh4MX2yCogHflyAYMRbfdnpnm.jpg  420634.0  False   \n",
       "2      /ubLbY97m8lYJ3Fykh7nfiwB5eth.jpg  316727.0  False   \n",
       "3      /q719jXXEzOoYaps6babgKnONONX.jpg  372058.0  False   \n",
       "4      /lW0kUtXTOVlHTVhDO2VzNBACAHX.jpg  335797.0  False   \n",
       "...                                 ...       ...    ...   \n",
       "50076                               NaN  722607.0  False   \n",
       "50077  /ti8BFl0DKL6kixK57LN9auJ2rBM.jpg  721979.0  False   \n",
       "50078                               NaN  712496.0  False   \n",
       "50079                               NaN  703093.0  False   \n",
       "50080  /b1BFbrEE4Wtmw4TOSw69UxnoVrl.jpg  689012.0  False   \n",
       "\n",
       "                          backdrop_path original_language  \\\n",
       "0      /ld7V9BjMk2xtiBNcR8savyyk5ca.jpg                en   \n",
       "1      /fBNnj5bQ5YhzPUzxIW1UvLVZepP.jpg                en   \n",
       "2      /craD86vySKvAkboyeXFnZwHrNA8.jpg                en   \n",
       "3      /mMtUybQ6hL24FXo0F3Z4j2KG7kZ.jpg                ja   \n",
       "4      /z9ft5HYHzWcasR6SGcgeluxTznB.jpg                en   \n",
       "...                                 ...               ...   \n",
       "50076                               NaN                en   \n",
       "50077                               NaN                en   \n",
       "50078                               NaN                en   \n",
       "50079                               NaN                en   \n",
       "50080                               NaN                en   \n",
       "\n",
       "                                    original_title  \\\n",
       "0      Miss Peregrine's Home for Peculiar Children   \n",
       "1                                        Terrifier   \n",
       "2                         The Purge: Election Year   \n",
       "3                                            君の名は。   \n",
       "4                                             Sing   \n",
       "...                                            ...   \n",
       "50076                               Truth to Power   \n",
       "50077              No More Darkness, No More Light   \n",
       "50078                                         Rizo   \n",
       "50079                           Beauty & the Beast   \n",
       "50080                                 Out of Order   \n",
       "\n",
       "                        genre_ids  \\\n",
       "0             [18, 14, 12, 10751]   \n",
       "1                        [53, 27]   \n",
       "2                    [28, 27, 53]   \n",
       "3                 [10749, 16, 18]   \n",
       "4      [16, 35, 18, 10751, 10402]   \n",
       "...                           ...   \n",
       "50076                        [99]   \n",
       "50077                        [80]   \n",
       "50078                        [18]   \n",
       "50079                     [10751]   \n",
       "50080                        [35]   \n",
       "\n",
       "                                             title  vote_average  \\\n",
       "0      Miss Peregrine's Home for Peculiar Children           6.7   \n",
       "1                                        Terrifier           6.3   \n",
       "2                         The Purge: Election Year           6.4   \n",
       "3                                       Your Name.           8.6   \n",
       "4                                             Sing           7.0   \n",
       "...                                            ...           ...   \n",
       "50076                               Truth to Power           0.0   \n",
       "50077              No More Darkness, No More Light           0.0   \n",
       "50078                                         Rizo           0.0   \n",
       "50079                           Beauty & the Beast           0.0   \n",
       "50080                                 Out of Order           8.0   \n",
       "\n",
       "                                                overview release_date  \n",
       "0      A teenager finds himself transported to an isl...   2016-09-28  \n",
       "1      A maniacal clown named Art terrorizes three yo...   2016-10-15  \n",
       "2      Two years after choosing not to kill the man w...   2016-06-29  \n",
       "3      High schoolers Mitsuha and Taki are complete s...   2016-08-26  \n",
       "4      A koala named Buster recruits his best friend ...   2016-11-23  \n",
       "...                                                  ...          ...  \n",
       "50076  The Grammy-winning lead singer of System of a ...   2020-04-15  \n",
       "50077  A woman fresh out of prison for a crime she to...   2020-04-15  \n",
       "50078  Rizo is the story of an Afro-Latina actress, C...   2020-05-10  \n",
       "50079  Presented by the Atlanta Ballet in 2018.  Long...   2020-05-10  \n",
       "50080  A dishevelled public prosecutor attempts to sa...   2020-02-25  \n",
       "\n",
       "[50081 rows x 15 columns]"
      ]
     },
     "execution_count": 73,
     "metadata": {},
     "output_type": "execute_result"
    }
   ],
   "source": []
  },
  {
   "cell_type": "code",
   "execution_count": 63,
   "metadata": {},
   "outputs": [
    {
     "data": {
      "text/html": [
       "<div>\n",
       "<style scoped>\n",
       "    .dataframe tbody tr th:only-of-type {\n",
       "        vertical-align: middle;\n",
       "    }\n",
       "\n",
       "    .dataframe tbody tr th {\n",
       "        vertical-align: top;\n",
       "    }\n",
       "\n",
       "    .dataframe thead th {\n",
       "        text-align: right;\n",
       "    }\n",
       "</style>\n",
       "<table border=\"1\" class=\"dataframe\">\n",
       "  <thead>\n",
       "    <tr style=\"text-align: right;\">\n",
       "      <th></th>\n",
       "      <th>budget</th>\n",
       "      <th>genres</th>\n",
       "      <th>id</th>\n",
       "      <th>imdb_id</th>\n",
       "      <th>original_language</th>\n",
       "      <th>original_title</th>\n",
       "      <th>popularity</th>\n",
       "      <th>release_date</th>\n",
       "      <th>revenue</th>\n",
       "      <th>runtime</th>\n",
       "      <th>title</th>\n",
       "      <th>vote_average</th>\n",
       "      <th>vote_count</th>\n",
       "      <th>year</th>\n",
       "    </tr>\n",
       "  </thead>\n",
       "  <tbody>\n",
       "    <tr>\n",
       "      <th>9</th>\n",
       "      <td>17000000.0</td>\n",
       "      <td>[{'id': 28, 'name': 'Action'}, {'id': 27, 'nam...</td>\n",
       "      <td>581392.0</td>\n",
       "      <td>tt8850222</td>\n",
       "      <td>ko</td>\n",
       "      <td>반도</td>\n",
       "      <td>800.753</td>\n",
       "      <td>2020-07-15</td>\n",
       "      <td>35878266.0</td>\n",
       "      <td>114.0</td>\n",
       "      <td>Peninsula</td>\n",
       "      <td>7.0</td>\n",
       "      <td>732.0</td>\n",
       "      <td>2020</td>\n",
       "    </tr>\n",
       "    <tr>\n",
       "      <th>10</th>\n",
       "      <td>200000000.0</td>\n",
       "      <td>[{'id': 28, 'name': 'Action'}, {'id': 12, 'nam...</td>\n",
       "      <td>337401.0</td>\n",
       "      <td>tt4566758</td>\n",
       "      <td>en</td>\n",
       "      <td>Mulan</td>\n",
       "      <td>752.021</td>\n",
       "      <td>2020-09-04</td>\n",
       "      <td>57000000.0</td>\n",
       "      <td>115.0</td>\n",
       "      <td>Mulan</td>\n",
       "      <td>7.2</td>\n",
       "      <td>2809.0</td>\n",
       "      <td>2020</td>\n",
       "    </tr>\n",
       "    <tr>\n",
       "      <th>13</th>\n",
       "      <td>60000000.0</td>\n",
       "      <td>[{'id': 14, 'name': 'Fantasy'}, {'id': 16, 'na...</td>\n",
       "      <td>400160.0</td>\n",
       "      <td>tt4823776</td>\n",
       "      <td>en</td>\n",
       "      <td>The SpongeBob Movie: Sponge on the Run</td>\n",
       "      <td>1114.882</td>\n",
       "      <td>2020-08-14</td>\n",
       "      <td>4700000.0</td>\n",
       "      <td>95.0</td>\n",
       "      <td>The SpongeBob Movie: Sponge on the Run</td>\n",
       "      <td>8.3</td>\n",
       "      <td>1055.0</td>\n",
       "      <td>2020</td>\n",
       "    </tr>\n",
       "    <tr>\n",
       "      <th>32</th>\n",
       "      <td>30000000.0</td>\n",
       "      <td>[{'id': 28, 'name': 'Action'}, {'id': 80, 'nam...</td>\n",
       "      <td>531499.0</td>\n",
       "      <td>tt8461224</td>\n",
       "      <td>en</td>\n",
       "      <td>The Tax Collector</td>\n",
       "      <td>492.096</td>\n",
       "      <td>2020-08-07</td>\n",
       "      <td>942666.0</td>\n",
       "      <td>95.0</td>\n",
       "      <td>The Tax Collector</td>\n",
       "      <td>6.0</td>\n",
       "      <td>171.0</td>\n",
       "      <td>2020</td>\n",
       "    </tr>\n",
       "    <tr>\n",
       "      <th>37</th>\n",
       "      <td>8819200.0</td>\n",
       "      <td>[{'id': 878, 'name': 'Science Fiction'}]</td>\n",
       "      <td>514207.0</td>\n",
       "      <td>tt8060328</td>\n",
       "      <td>ru</td>\n",
       "      <td>Вторжение</td>\n",
       "      <td>385.953</td>\n",
       "      <td>2020-01-01</td>\n",
       "      <td>32104054.0</td>\n",
       "      <td>129.0</td>\n",
       "      <td>Invasion</td>\n",
       "      <td>7.0</td>\n",
       "      <td>415.0</td>\n",
       "      <td>2020</td>\n",
       "    </tr>\n",
       "  </tbody>\n",
       "</table>\n",
       "</div>"
      ],
      "text/plain": [
       "         budget                                             genres        id  \\\n",
       "9    17000000.0  [{'id': 28, 'name': 'Action'}, {'id': 27, 'nam...  581392.0   \n",
       "10  200000000.0  [{'id': 28, 'name': 'Action'}, {'id': 12, 'nam...  337401.0   \n",
       "13   60000000.0  [{'id': 14, 'name': 'Fantasy'}, {'id': 16, 'na...  400160.0   \n",
       "32   30000000.0  [{'id': 28, 'name': 'Action'}, {'id': 80, 'nam...  531499.0   \n",
       "37    8819200.0           [{'id': 878, 'name': 'Science Fiction'}]  514207.0   \n",
       "\n",
       "      imdb_id original_language                          original_title  \\\n",
       "9   tt8850222                ko                                      반도   \n",
       "10  tt4566758                en                                   Mulan   \n",
       "13  tt4823776                en  The SpongeBob Movie: Sponge on the Run   \n",
       "32  tt8461224                en                       The Tax Collector   \n",
       "37  tt8060328                ru                               Вторжение   \n",
       "\n",
       "    popularity release_date     revenue  runtime  \\\n",
       "9      800.753   2020-07-15  35878266.0    114.0   \n",
       "10     752.021   2020-09-04  57000000.0    115.0   \n",
       "13    1114.882   2020-08-14   4700000.0     95.0   \n",
       "32     492.096   2020-08-07    942666.0     95.0   \n",
       "37     385.953   2020-01-01  32104054.0    129.0   \n",
       "\n",
       "                                     title  vote_average  vote_count  year  \n",
       "9                                Peninsula           7.0       732.0  2020  \n",
       "10                                   Mulan           7.2      2809.0  2020  \n",
       "13  The SpongeBob Movie: Sponge on the Run           8.3      1055.0  2020  \n",
       "32                       The Tax Collector           6.0       171.0  2020  \n",
       "37                                Invasion           7.0       415.0  2020  "
      ]
     },
     "execution_count": 63,
     "metadata": {},
     "output_type": "execute_result"
    }
   ],
   "source": [
    "df5br.head()"
   ]
  },
  {
   "cell_type": "code",
   "execution_count": 24,
   "metadata": {},
   "outputs": [],
   "source": [
    "sns.set()"
   ]
  },
  {
   "cell_type": "code",
   "execution_count": 25,
   "metadata": {
    "scrolled": true
   },
   "outputs": [
    {
     "data": {
      "text/plain": [
       "<seaborn.axisgrid.JointGrid at 0x7f8ba602c940>"
      ]
     },
     "execution_count": 25,
     "metadata": {},
     "output_type": "execute_result"
    },
    {
     "data": {
      "image/png": "[encoded data removed]",
      "text/plain": [
       "<Figure size 432x432 with 3 Axes>"
      ]
     },
     "metadata": {},
     "output_type": "display_data"
    }
   ],
   "source": [
    "sns.jointplot(x='budget', y='revenue', data=dfbr, kind=\"reg\")"
   ]
  },
  {
   "cell_type": "code",
   "execution_count": 67,
   "metadata": {
    "scrolled": true
   },
   "outputs": [
    {
     "name": "stderr",
     "output_type": "stream",
     "text": [
      "<ipython-input-67-b64f260565b6>:2: SettingWithCopyWarning: \n",
      "A value is trying to be set on a copy of a slice from a DataFrame.\n",
      "Try using .loc[row_indexer,col_indexer] = value instead\n",
      "\n",
      "See the caveats in the documentation: https://pandas.pydata.org/pandas-docs/stable/user_guide/indexing.html#returning-a-view-versus-a-copy\n",
      "  df5br['year'] = pd.Series(df5br.release_date.str[:4])\n"
     ]
    }
   ],
   "source": [
    "df5br.drop(columns='year', inplace=True)\n",
    "df5br['year'] = pd.Series(df5br.release_date.str[:4])"
   ]
  },
  {
   "cell_type": "code",
   "execution_count": 46,
   "metadata": {},
   "outputs": [
    {
     "data": {
      "text/plain": [
       "(pandas.core.series.Series,\n",
       " pandas.core.series.Series,\n",
       " pandas.core.series.Series)"
      ]
     },
     "execution_count": 46,
     "metadata": {},
     "output_type": "execute_result"
    }
   ],
   "source": [
    "type(df5br.release_date.str[:4]),type(df5br.release_date),type(df5br['year'])"
   ]
  },
  {
   "cell_type": "code",
   "execution_count": 60,
   "metadata": {},
   "outputs": [
    {
     "data": {
      "text/plain": [
       "2000    2000\n",
       "2001    1967\n",
       "2002    2016\n",
       "2003    2018\n",
       "2004    2016\n",
       "2012    2011\n",
       "2013    2008\n",
       "2015    1994\n",
       "2016    2018\n",
       "2018    2011\n",
       "2020    2006\n",
       "2022    2014\n",
       "2026    2015\n",
       "2027    2017\n",
       "2029    1997\n",
       "2030    2017\n",
       "2032    1982\n",
       "2033    2008\n",
       "2034    2012\n",
       "2035    1996\n",
       "2036    2008\n",
       "2037    2019\n",
       "2040    2002\n",
       "2042    2002\n",
       "2043    2008\n",
       "2045    1997\n",
       "2046    2011\n",
       "2050    2008\n",
       "2051    2005\n",
       "2053    2006\n",
       "2058    1964\n",
       "2059    1997\n",
       "2062    2013\n",
       "2063    2004\n",
       "2065    1983\n",
       "2068    2008\n",
       "2071    2012\n",
       "2072    1995\n",
       "2075    2013\n",
       "2076    1998\n",
       "2079    2016\n",
       "2080    2003\n",
       "2081    2013\n",
       "2083    2005\n",
       "2085    2005\n",
       "2088    2009\n",
       "2090    1985\n",
       "2091    1990\n",
       "2092    1987\n",
       "2093    2018\n",
       "2094    2013\n",
       "2095    2009\n",
       "2096    2014\n",
       "2097    1974\n",
       "2099    2008\n",
       "2100    2014\n",
       "Name: year, dtype: object"
      ]
     },
     "execution_count": 60,
     "metadata": {},
     "output_type": "execute_result"
    }
   ],
   "source": [
    "x=2000\n",
    "df5br.loc[x:x+100,'year']"
   ]
  },
  {
   "cell_type": "code",
   "execution_count": null,
   "metadata": {},
   "outputs": [],
   "source": []
  },
  {
   "cell_type": "code",
   "execution_count": 35,
   "metadata": {},
   "outputs": [
    {
     "data": {
      "text/plain": [
       "<seaborn.axisgrid.FacetGrid at 0x7f8b91ccefd0>"
      ]
     },
     "execution_count": 35,
     "metadata": {},
     "output_type": "execute_result"
    },
    {
     "data": {
      "image/png": "[encoded data removed]",
      "text/plain": [
       "<Figure size 424.1x360 with 1 Axes>"
      ]
     },
     "metadata": {},
     "output_type": "display_data"
    }
   ],
   "source": [
    "sns.lmplot(x='budget', y='revenue',data=df5br, hue='year')"
   ]
  },
  {
   "cell_type": "code",
   "execution_count": 87,
   "metadata": {},
   "outputs": [
    {
     "data": {
      "text/plain": [
       "<matplotlib.axes._subplots.AxesSubplot at 0x7fc3c0604910>"
      ]
     },
     "execution_count": 87,
     "metadata": {},
     "output_type": "execute_result"
    },
    {
     "data": {
      "image/png": "[encoded data removed]",
      "text/plain": [
       "<Figure size 432x288 with 1 Axes>"
      ]
     },
     "metadata": {},
     "output_type": "display_data"
    }
   ],
   "source": [
    "sns.boxplot(x='vote_average',y='revenue',data=df1)"
   ]
  },
  {
   "cell_type": "code",
   "execution_count": 88,
   "metadata": {},
   "outputs": [
    {
     "data": {
      "text/plain": [
       "<matplotlib.axes._subplots.AxesSubplot at 0x7fc3c084ef40>"
      ]
     },
     "execution_count": 88,
     "metadata": {},
     "output_type": "execute_result"
    },
    {
     "data": {
      "image/png": "[encoded data removed]",
      "text/plain": [
       "<Figure size 432x288 with 1 Axes>"
      ]
     },
     "metadata": {},
     "output_type": "display_data"
    }
   ],
   "source": [
    "sns.boxplot(x='original_language',y='revenue',data=df1)"
   ]
  },
  {
   "cell_type": "code",
   "execution_count": null,
   "metadata": {},
   "outputs": [],
   "source": [
    "sns.lmplot(x='budget',y='revenue',data=df1, hue='')"
   ]
  },
  {
   "cell_type": "code",
   "execution_count": null,
   "metadata": {},
   "outputs": [],
   "source": []
  },
  {
   "cell_type": "code",
   "execution_count": null,
   "metadata": {},
   "outputs": [],
   "source": []
  },
  {
   "cell_type": "code",
   "execution_count": null,
   "metadata": {},
   "outputs": [],
   "source": []
  },
  {
   "cell_type": "code",
   "execution_count": null,
   "metadata": {},
   "outputs": [],
   "source": []
  },
  {
   "cell_type": "code",
   "execution_count": null,
   "metadata": {},
   "outputs": [],
   "source": [
    "# https://api.themoviedb.org/3/movie/157336?api_key={api_key}\n",
    "# https://api.themoviedb.org/3/movie/157336/videos?api_key={api_key}\n",
    "    \n",
    "# single request:\n",
    "# https://api.themoviedb.org/3/movie/157336?api_key={api_key}&append_to_response=videos\n",
    "# multiple requests\n",
    "# https://api.themoviedb.org/3/movie/157336?api_key={api_key}&append_to_response=videos,images\n",
    "\n",
    "# popularity.asc\n",
    "# popularity.desc\n",
    "# release_date.asc\n",
    "# release_date.desc\n",
    "# revenue.asc\n",
    "# revenue.desc\n",
    "# primary_release_date.asc\n",
    "# primary_release_date.desc\n",
    "# original_title.asc\n",
    "# original_title.desc\n",
    "# vote_average.asc\n",
    "# vote_average.desc\n",
    "# vote_count.asc\n",
    "# vote_count.desc"
   ]
  },
  {
   "cell_type": "code",
   "execution_count": null,
   "metadata": {},
   "outputs": [],
   "source": []
  }
 ],
 "metadata": {
  "kernelspec": {
   "display_name": "Python 3",
   "language": "python",
   "name": "python3"
  },
  "language_info": {
   "codemirror_mode": {
    "name": "ipython",
    "version": 3
   },
   "file_extension": ".py",
   "mimetype": "text/x-python",
   "name": "python",
   "nbconvert_exporter": "python",
   "pygments_lexer": "ipython3",
   "version": "3.8.3"
  }
 },
 "nbformat": 4,
 "nbformat_minor": 2
}
