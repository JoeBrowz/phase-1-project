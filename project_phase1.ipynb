{
 "cells": [
  {
   "cell_type": "markdown",
   "metadata": {},
   "source": [
    "# Phase 1 Project Submission\n",
    "\n",
    "Please fill out:\n",
    "* Student name: Ning Chen and Joe Marx\n",
    "* Student pace: full time\n",
    "* Scheduled project review date/time: 11/06/2020\n",
    "* Instructor name: Fangfang Lee & Justin Tennenbaum\n",
    "* Blog post URL:"
   ]
  },
  {
   "cell_type": "markdown",
   "metadata": {},
   "source": [
    "## Overview"
   ]
  },
  {
   "cell_type": "markdown",
   "metadata": {},
   "source": [
    "Tasked with helping Microsoft Corporation venture into the Film industry, this project analyzes the state of the filmindustry and looks at what kinds of films are most profitable and popular. The needs of a new movie studio is analyzed using exploratory data analysis to generate insights for a business stakeholder. All data is collected by using TMDB API and web scraping from IMDB website. \n",
    "\n",
    "A one-paragraph overview of the project, including the business problem, data, methods, results and recommendations."
   ]
  },
  {
   "cell_type": "markdown",
   "metadata": {},
   "source": [
    "## Import Packages"
   ]
  },
  {
   "cell_type": "code",
   "execution_count": 1,
   "metadata": {
    "ExecuteTime": {
     "end_time": "2020-11-09T16:42:16.477059Z",
     "start_time": "2020-11-09T16:42:16.465937Z"
    }
   },
   "outputs": [],
   "source": [
    "import numpy as np\n",
    "import pandas as pd\n",
    "import seaborn as sns\n",
    "import requests\n",
    "import json\n",
    "import time\n",
    "from bs4 import BeautifulSoup as bs\n",
    "import matplotlib.pyplot as plt\n",
    "%matplotlib inline"
   ]
  },
  {
   "cell_type": "code",
   "execution_count": 3,
   "metadata": {
    "ExecuteTime": {
     "end_time": "2020-11-09T16:35:18.983994Z",
     "start_time": "2020-11-09T16:35:18.964805Z"
    },
    "scrolled": true
   },
   "outputs": [],
   "source": [
    "%%capture\n",
    "from tqdm import tqdm_notebook as tqdm\n",
    "#allows progress bars to display inline"
   ]
  },
  {
   "cell_type": "markdown",
   "metadata": {},
   "source": [
    "# Data Collection"
   ]
  },
  {
   "cell_type": "markdown",
   "metadata": {},
   "source": [
    "## TMDB API"
   ]
  },
  {
   "cell_type": "code",
   "execution_count": null,
   "metadata": {
    "ExecuteTime": {
     "start_time": "2020-11-10T04:27:27.635Z"
    },
    "scrolled": false
   },
   "outputs": [],
   "source": [
    "#Get list of movie IDs \n",
    "\n",
    "f = open('tmdb_api.json')\n",
    "api_key = json.load(f)\n",
    "url = f'https://api.themoviedb.org/3/discover/movie?api_key={api_key}'\n",
    "\n",
    "\n",
    "discover = []\n",
    "# TMDB id\n",
    "ids = []\n",
    "# set random sleep time\n",
    "random = np.random.uniform(0, 1, 501)\n",
    "# set year 2016-2020\n",
    "year = list(range(2016, 2021))\n",
    "\n",
    "# tqdm allows progress bars to show\n",
    "for yr in year:\n",
    "    for i in tqdm(range(1, 501)):\n",
    "        params = {  \n",
    "            'page': i,\n",
    "            'primary_release_year': yr,\n",
    "            'language': 'en-US',\n",
    "            'include_adult': 'false',\n",
    "            'include_video': 'false'}\n",
    "        response = requests.get(url, params)\n",
    "        d = response.json()\n",
    "        discover.extend(d['results'])\n",
    "        #ids.extend([x['id'] for x in d['results']])\n",
    "        ids.extend([d['results'][j]['id'] for j in range(len(d['results']))])\n",
    "        time.sleep(random[i])"
   ]
  },
  {
   "cell_type": "code",
   "execution_count": null,
   "metadata": {},
   "outputs": [],
   "source": [
    "# check the json file\n",
    "d.keys(),d['total_pages'],d['page']"
   ]
  },
  {
   "cell_type": "code",
   "execution_count": null,
   "metadata": {},
   "outputs": [],
   "source": [
    "#Get full movie details for list of movie IDs\n",
    "movie = []\n",
    "for i in tqdm(ids):\n",
    "    url = f'https://api.themoviedb.org/3/movie/{i}?api_key={api_key}'\n",
    "    params = {'language': 'en-US'}\n",
    "    response = requests.get(url, params)\n",
    "    movie.append(response.json())\n",
    "    time.sleep(np.random.uniform())"
   ]
  },
  {
   "cell_type": "code",
   "execution_count": null,
   "metadata": {},
   "outputs": [],
   "source": [
    "dis = pd.DataFrame(discover)\n",
    "df2 = pd.DataFrame(movie)\n",
    "dis.to_csv('data/discover.csv')\n",
    "df2.to_csv('data/movie.csv')"
   ]
  },
  {
   "cell_type": "markdown",
   "metadata": {},
   "source": [
    "## Web Scraping IMDB"
   ]
  },
  {
   "cell_type": "code",
   "execution_count": 161,
   "metadata": {},
   "outputs": [],
   "source": [
    "#define a function to take a block of text and return just the contained numbers\n",
    "def grab_num(str):\n",
    "    nums = [x for x in str if x.isdigit()]\n",
    "    output = \"\".join(nums)\n",
    "    if not nums:\n",
    "        output = None\n",
    "    return output"
   ]
  },
  {
   "cell_type": "code",
   "execution_count": 163,
   "metadata": {},
   "outputs": [
    {
     "ename": "NameError",
     "evalue": "name 'mov_df2' is not defined",
     "output_type": "error",
     "traceback": [
      "\u001b[0;31m---------------------------------------------------------------------------\u001b[0m",
      "\u001b[0;31mNameError\u001b[0m                                 Traceback (most recent call last)",
      "\u001b[0;32m<ipython-input-163-9902f3591439>\u001b[0m in \u001b[0;36m<module>\u001b[0;34m\u001b[0m\n\u001b[0;32m----> 1\u001b[0;31m \u001b[0mto_scrape\u001b[0m \u001b[0;34m=\u001b[0m \u001b[0mmov_df2\u001b[0m\u001b[0;34m[\u001b[0m\u001b[0;34m(\u001b[0m\u001b[0mmov_df2\u001b[0m\u001b[0;34m.\u001b[0m\u001b[0mbudget\u001b[0m \u001b[0;34m<\u001b[0m \u001b[0;36m100\u001b[0m\u001b[0;34m)\u001b[0m \u001b[0;34m|\u001b[0m \u001b[0;34m(\u001b[0m\u001b[0mmov_df2\u001b[0m\u001b[0;34m.\u001b[0m\u001b[0mrevenue\u001b[0m \u001b[0;34m<\u001b[0m \u001b[0;36m100\u001b[0m\u001b[0;34m)\u001b[0m \u001b[0;34m&\u001b[0m \u001b[0;34m(\u001b[0m\u001b[0mmov_df2\u001b[0m\u001b[0;34m.\u001b[0m\u001b[0mimdb_id\u001b[0m\u001b[0;34m[\u001b[0m\u001b[0;34m:\u001b[0m\u001b[0;36m2\u001b[0m\u001b[0;34m]\u001b[0m \u001b[0;34m==\u001b[0m \u001b[0;34m\"tt\"\u001b[0m\u001b[0;34m)\u001b[0m\u001b[0;34m]\u001b[0m\u001b[0;34m\u001b[0m\u001b[0;34m\u001b[0m\u001b[0m\n\u001b[0m\u001b[1;32m      2\u001b[0m \u001b[0mimdb_ids1\u001b[0m \u001b[0;34m=\u001b[0m \u001b[0mlist\u001b[0m\u001b[0;34m(\u001b[0m\u001b[0mto_scrape\u001b[0m\u001b[0;34m[\u001b[0m\u001b[0;34m'imdb_id'\u001b[0m\u001b[0;34m]\u001b[0m\u001b[0;34m)\u001b[0m\u001b[0;34m\u001b[0m\u001b[0;34m\u001b[0m\u001b[0m\n",
      "\u001b[0;31mNameError\u001b[0m: name 'mov_df2' is not defined"
     ]
    }
   ],
   "source": [
    "#subset the dataframe to select IDs to scrape for\n",
    "to_scrape = mov_df2[(mov_df2.budget < 100) | (mov_df2.revenue < 100) & (mov_df2.imdb_id[:2] == \"tt\")]\n",
    "imdb_ids1 = list(to_scrape['imdb_id'])"
   ]
  },
  {
   "cell_type": "code",
   "execution_count": null,
   "metadata": {},
   "outputs": [],
   "source": [
    "#scrape IMDb for budget/revenue data\n",
    "scr_budget = []\n",
    "scr_revenue = []\n",
    "count = 0\n",
    "for db_id in tqdm(imdb_ids1):\n",
    "    #check the id is good to use\n",
    "    if type(db_id) != str:\n",
    "        print(\"wrong id class \", db_id)\n",
    "        continue\n",
    "    if db_id[:2] != \"tt\":\n",
    "        print(\"wrong id format \", db_id)\n",
    "        continue\n",
    "    #pass id into url\n",
    "    url = \"https://www.imdb.com/title/{}/\".format(db_id)    \n",
    "    page = requests.get(url)\n",
    "    #check site response is ok\n",
    "    if page.status_code != 200: \n",
    "        print(page.status_code, db_id)\n",
    "        continue\n",
    "    #create a beautiful soup object to parse through\n",
    "    soup = bs(page.content, \"html.parser\") \n",
    "    #search for the div that contains budget data\n",
    "    budget_div = soup.find('h4', text = \"Budget:\")\n",
    "    try:\n",
    "        bgt_text = budget_div.parent.get_text()\n",
    "    except:\n",
    "        print(db_id, \" does not appear to have budget data...\")\n",
    "        continue\n",
    "    #extract numerical data from div\n",
    "    try:\n",
    "        budget = int(grab_num(bgt_text))\n",
    "    except:\n",
    "        print(\"scraped data not a number \", db_id)\n",
    "        continue\n",
    "    #repeat process for revenue\n",
    "    revenue_div = soup.find('h4', text= \"Cumulative Worldwide Gross:\")\n",
    "    try:\n",
    "        rev_text = revenue_div.parent.get_text()\n",
    "    except:\n",
    "        print(db_id, \"does not appear to have revenue data...\")\n",
    "        continue\n",
    "    try:\n",
    "        revenue = int(grab_num(rev_text))\n",
    "    except:\n",
    "        print(\"scraped data not a number \", db_id)\n",
    "        continue\n",
    "    #count number of successful scrapes\n",
    "    count +=1\n",
    "    print(count)\n",
    "    scr_budget.append((db_id, budget))\n",
    "    scr_revenue.append((db_id, revenue))\n",
    "    time.sleep(np.random.uniform(.4,1.3))"
   ]
  },
  {
   "cell_type": "code",
   "execution_count": null,
   "metadata": {},
   "outputs": [],
   "source": [
    "#create DataFrame of scraped data\n",
    "scrape = pd.DataFrame([[x[0] for x in scr_budget], [x[1] for x in scr_budget], [x[1] for x in scr_revenue]])\n",
    "scrape_df = scrape.transpose()\n",
    "scrape_df.columns = [\"imdb_id\", \"budget_i\", \"revenue_i\"]\n",
    "scrape_df.to_csv(\"data/scrape.csv)"
   ]
  },
  {
   "cell_type": "markdown",
   "metadata": {},
   "source": [
    "# Data Clean and Analysis"
   ]
  },
  {
   "cell_type": "code",
   "execution_count": 6,
   "metadata": {},
   "outputs": [],
   "source": [
    "#if you ran the API calls prior, you can skip this\n",
    "dis = pd.read_csv('data/discover_trim.csv')\n",
    "df = pd.read_csv('data/cleaned.csv')\n",
    "df5 = pd.read_csv('data/fiveyear_trim.csv')"
   ]
  },
  {
   "cell_type": "code",
   "execution_count": 7,
   "metadata": {
    "scrolled": true
   },
   "outputs": [
    {
     "data": {
      "text/html": [
       "<div>\n",
       "<style scoped>\n",
       "    .dataframe tbody tr th:only-of-type {\n",
       "        vertical-align: middle;\n",
       "    }\n",
       "\n",
       "    .dataframe tbody tr th {\n",
       "        vertical-align: top;\n",
       "    }\n",
       "\n",
       "    .dataframe thead th {\n",
       "        text-align: right;\n",
       "    }\n",
       "</style>\n",
       "<table border=\"1\" class=\"dataframe\">\n",
       "  <thead>\n",
       "    <tr style=\"text-align: right;\">\n",
       "      <th></th>\n",
       "      <th>imdb_id</th>\n",
       "      <th>title</th>\n",
       "      <th>genres</th>\n",
       "      <th>popularity</th>\n",
       "      <th>release_date</th>\n",
       "      <th>budget</th>\n",
       "      <th>revenue</th>\n",
       "      <th>vote_average</th>\n",
       "      <th>ROI</th>\n",
       "    </tr>\n",
       "  </thead>\n",
       "  <tbody>\n",
       "    <tr>\n",
       "      <th>0</th>\n",
       "      <td>tt8850222</td>\n",
       "      <td>Peninsula</td>\n",
       "      <td>[{'id': 28, 'name': 'Action'}, {'id': 27, 'nam...</td>\n",
       "      <td>800.753</td>\n",
       "      <td>2020-07-15</td>\n",
       "      <td>17000000.0</td>\n",
       "      <td>35878266.0</td>\n",
       "      <td>7.0</td>\n",
       "      <td>2.110486</td>\n",
       "    </tr>\n",
       "    <tr>\n",
       "      <th>1</th>\n",
       "      <td>tt4566758</td>\n",
       "      <td>Mulan</td>\n",
       "      <td>[{'id': 28, 'name': 'Action'}, {'id': 12, 'nam...</td>\n",
       "      <td>752.021</td>\n",
       "      <td>2020-09-04</td>\n",
       "      <td>200000000.0</td>\n",
       "      <td>57000000.0</td>\n",
       "      <td>7.2</td>\n",
       "      <td>0.285000</td>\n",
       "    </tr>\n",
       "    <tr>\n",
       "      <th>2</th>\n",
       "      <td>tt4823776</td>\n",
       "      <td>The SpongeBob Movie: Sponge on the Run</td>\n",
       "      <td>[{'id': 14, 'name': 'Fantasy'}, {'id': 16, 'na...</td>\n",
       "      <td>1114.882</td>\n",
       "      <td>2020-08-14</td>\n",
       "      <td>60000000.0</td>\n",
       "      <td>4700000.0</td>\n",
       "      <td>8.3</td>\n",
       "      <td>0.078333</td>\n",
       "    </tr>\n",
       "    <tr>\n",
       "      <th>3</th>\n",
       "      <td>tt8461224</td>\n",
       "      <td>The Tax Collector</td>\n",
       "      <td>[{'id': 28, 'name': 'Action'}, {'id': 80, 'nam...</td>\n",
       "      <td>492.096</td>\n",
       "      <td>2020-08-07</td>\n",
       "      <td>30000000.0</td>\n",
       "      <td>942666.0</td>\n",
       "      <td>6.0</td>\n",
       "      <td>0.031422</td>\n",
       "    </tr>\n",
       "    <tr>\n",
       "      <th>4</th>\n",
       "      <td>tt8060328</td>\n",
       "      <td>Invasion</td>\n",
       "      <td>[{'id': 878, 'name': 'Science Fiction'}]</td>\n",
       "      <td>385.953</td>\n",
       "      <td>2020-01-01</td>\n",
       "      <td>8819200.0</td>\n",
       "      <td>32104054.0</td>\n",
       "      <td>7.0</td>\n",
       "      <td>3.640246</td>\n",
       "    </tr>\n",
       "  </tbody>\n",
       "</table>\n",
       "</div>"
      ],
      "text/plain": [
       "     imdb_id                                   title  \\\n",
       "0  tt8850222                               Peninsula   \n",
       "1  tt4566758                                   Mulan   \n",
       "2  tt4823776  The SpongeBob Movie: Sponge on the Run   \n",
       "3  tt8461224                       The Tax Collector   \n",
       "4  tt8060328                                Invasion   \n",
       "\n",
       "                                              genres  popularity release_date  \\\n",
       "0  [{'id': 28, 'name': 'Action'}, {'id': 27, 'nam...     800.753   2020-07-15   \n",
       "1  [{'id': 28, 'name': 'Action'}, {'id': 12, 'nam...     752.021   2020-09-04   \n",
       "2  [{'id': 14, 'name': 'Fantasy'}, {'id': 16, 'na...    1114.882   2020-08-14   \n",
       "3  [{'id': 28, 'name': 'Action'}, {'id': 80, 'nam...     492.096   2020-08-07   \n",
       "4           [{'id': 878, 'name': 'Science Fiction'}]     385.953   2020-01-01   \n",
       "\n",
       "        budget     revenue  vote_average       ROI  \n",
       "0   17000000.0  35878266.0           7.0  2.110486  \n",
       "1  200000000.0  57000000.0           7.2  0.285000  \n",
       "2   60000000.0   4700000.0           8.3  0.078333  \n",
       "3   30000000.0    942666.0           6.0  0.031422  \n",
       "4    8819200.0  32104054.0           7.0  3.640246  "
      ]
     },
     "execution_count": 7,
     "metadata": {},
     "output_type": "execute_result"
    }
   ],
   "source": [
    "df.head()"
   ]
  },
  {
   "cell_type": "code",
   "execution_count": 8,
   "metadata": {},
   "outputs": [],
   "source": [
    "df.drop_duplicates('imdb_id', inplace=True)"
   ]
  },
  {
   "cell_type": "code",
   "execution_count": 9,
   "metadata": {},
   "outputs": [],
   "source": [
    "dis['year'] = dis.release_date.str[:4]"
   ]
  },
  {
   "cell_type": "code",
   "execution_count": 10,
   "metadata": {},
   "outputs": [],
   "source": [
    "dis_rate = dis[(dis.vote_average != 0) & (dis.vote_average != 10)]"
   ]
  },
  {
   "cell_type": "code",
   "execution_count": 11,
   "metadata": {
    "scrolled": false
   },
   "outputs": [
    {
     "data": {
      "text/html": [
       "<div>\n",
       "<style scoped>\n",
       "    .dataframe tbody tr th:only-of-type {\n",
       "        vertical-align: middle;\n",
       "    }\n",
       "\n",
       "    .dataframe tbody tr th {\n",
       "        vertical-align: top;\n",
       "    }\n",
       "\n",
       "    .dataframe thead th {\n",
       "        text-align: right;\n",
       "    }\n",
       "</style>\n",
       "<table border=\"1\" class=\"dataframe\">\n",
       "  <thead>\n",
       "    <tr style=\"text-align: right;\">\n",
       "      <th></th>\n",
       "      <th>mean</th>\n",
       "      <th>min</th>\n",
       "      <th>max</th>\n",
       "      <th>std</th>\n",
       "    </tr>\n",
       "    <tr>\n",
       "      <th>year</th>\n",
       "      <th></th>\n",
       "      <th></th>\n",
       "      <th></th>\n",
       "      <th></th>\n",
       "    </tr>\n",
       "  </thead>\n",
       "  <tbody>\n",
       "    <tr>\n",
       "      <th>2016</th>\n",
       "      <td>6.021084</td>\n",
       "      <td>0.5</td>\n",
       "      <td>9.8</td>\n",
       "      <td>1.559531</td>\n",
       "    </tr>\n",
       "    <tr>\n",
       "      <th>2017</th>\n",
       "      <td>6.139893</td>\n",
       "      <td>0.5</td>\n",
       "      <td>9.9</td>\n",
       "      <td>1.523518</td>\n",
       "    </tr>\n",
       "    <tr>\n",
       "      <th>2018</th>\n",
       "      <td>6.197032</td>\n",
       "      <td>0.5</td>\n",
       "      <td>9.7</td>\n",
       "      <td>1.519795</td>\n",
       "    </tr>\n",
       "    <tr>\n",
       "      <th>2019</th>\n",
       "      <td>6.224129</td>\n",
       "      <td>0.5</td>\n",
       "      <td>9.9</td>\n",
       "      <td>1.563777</td>\n",
       "    </tr>\n",
       "    <tr>\n",
       "      <th>2020</th>\n",
       "      <td>6.036337</td>\n",
       "      <td>1.0</td>\n",
       "      <td>9.8</td>\n",
       "      <td>1.862345</td>\n",
       "    </tr>\n",
       "  </tbody>\n",
       "</table>\n",
       "</div>"
      ],
      "text/plain": [
       "          mean  min  max       std\n",
       "year                              \n",
       "2016  6.021084  0.5  9.8  1.559531\n",
       "2017  6.139893  0.5  9.9  1.523518\n",
       "2018  6.197032  0.5  9.7  1.519795\n",
       "2019  6.224129  0.5  9.9  1.563777\n",
       "2020  6.036337  1.0  9.8  1.862345"
      ]
     },
     "execution_count": 11,
     "metadata": {},
     "output_type": "execute_result"
    }
   ],
   "source": [
    "dis_rate.groupby('year').vote_average.agg(['mean','min','max','std'])"
   ]
  },
  {
   "cell_type": "markdown",
   "metadata": {},
   "source": [
    "# Visualization"
   ]
  },
  {
   "cell_type": "code",
   "execution_count": 17,
   "metadata": {
    "scrolled": false
   },
   "outputs": [
    {
     "data": {
      "text/plain": [
       "Text(0.5, 0, 'number of movies')"
      ]
     },
     "execution_count": 17,
     "metadata": {},
     "output_type": "execute_result"
    },
    {
     "data": {
      "image/png": "[encoded data removed]",
      "text/plain": [
       "<Figure size 432x288 with 1 Axes>"
      ]
     },
     "metadata": {
      "needs_background": "light"
     },
     "output_type": "display_data"
    }
   ],
   "source": [
    "#visualize count of movie languages\n",
    "dis.original_language.value_counts()[:10][::-1].plot(kind='barh')\n",
    "plt.title('top 10 languages')\n",
    "plt.xlabel('number of movies')"
   ]
  },
  {
   "cell_type": "code",
   "execution_count": 18,
   "metadata": {},
   "outputs": [],
   "source": [
    "mean = dis_rate.groupby('year').vote_average.mean()"
   ]
  },
  {
   "cell_type": "code",
   "execution_count": 19,
   "metadata": {},
   "outputs": [
    {
     "data": {
      "text/plain": [
       "Text(0.5, 1.0, 'rate probability distribution')"
      ]
     },
     "execution_count": 19,
     "metadata": {},
     "output_type": "execute_result"
    },
    {
     "data": {
      "image/png": "[encoded data removed]",
      "text/plain": [
       "<Figure size 432x288 with 1 Axes>"
      ]
     },
     "metadata": {
      "needs_background": "light"
     },
     "output_type": "display_data"
    }
   ],
   "source": [
    "#ratings probability distribution\n",
    "dis.groupby('year').vote_average.plot(kind='kde')\n",
    "plt.axvline(dis_rate.vote_average.mean(),color='k')\n",
    "plt.legend()\n",
    "plt.xlabel('ratings')\n",
    "plt.xlim(0,10)\n",
    "plt.title('rate probability distribution')"
   ]
  },
  {
   "cell_type": "code",
   "execution_count": 20,
   "metadata": {},
   "outputs": [],
   "source": [
    "pd.options.mode.chained_assignment = None"
   ]
  },
  {
   "cell_type": "code",
   "execution_count": 21,
   "metadata": {},
   "outputs": [],
   "source": [
    "df5 = df5[(df5['budget']!=0) & (df5['revenue']!=0)]"
   ]
  },
  {
   "cell_type": "code",
   "execution_count": 22,
   "metadata": {
    "scrolled": true
   },
   "outputs": [],
   "source": [
    "df['year'] = df.release_date.str[:4]\n",
    "df['profit'] = df.revenue-df.budget\n",
    "df['ROI(%)'] = 100*df.profit/df.budget"
   ]
  },
  {
   "cell_type": "code",
   "execution_count": 23,
   "metadata": {},
   "outputs": [],
   "source": [
    "df5['year'] = df5.release_date.str[:4]\n",
    "df5['profit'] = df5.revenue-df.budget"
   ]
  },
  {
   "cell_type": "code",
   "execution_count": 24,
   "metadata": {},
   "outputs": [],
   "source": [
    "df5['ROI(%)'] = 100*df5.profit/df5.budget"
   ]
  },
  {
   "cell_type": "code",
   "execution_count": 25,
   "metadata": {},
   "outputs": [],
   "source": [
    "sns.set()"
   ]
  },
  {
   "cell_type": "code",
   "execution_count": 26,
   "metadata": {
    "scrolled": false
   },
   "outputs": [
    {
     "data": {
      "text/plain": [
       "<seaborn.axisgrid.JointGrid at 0x7f9f73cdb5c0>"
      ]
     },
     "execution_count": 26,
     "metadata": {},
     "output_type": "execute_result"
    },
    {
     "data": {
      "image/png": "[encoded data removed]",
      "text/plain": [
       "<Figure size 432x432 with 3 Axes>"
      ]
     },
     "metadata": {},
     "output_type": "display_data"
    }
   ],
   "source": [
    "sns.jointplot(x='budget', y='revenue', data=df5, kind=\"reg\")"
   ]
  },
  {
   "cell_type": "code",
   "execution_count": 27,
   "metadata": {},
   "outputs": [
    {
     "data": {
      "text/plain": [
       "Text(0.5, 1, 'budget vs revenue in yr 2016-2020')"
      ]
     },
     "execution_count": 27,
     "metadata": {},
     "output_type": "execute_result"
    },
    {
     "data": {
      "image/png": "[encoded data removed]",
      "text/plain": [
       "<Figure size 424.1x360 with 1 Axes>"
      ]
     },
     "metadata": {},
     "output_type": "display_data"
    }
   ],
   "source": [
    "sns.lmplot(x='budget', y='revenue',data=df5, hue='year')\n",
    "plt.title('budget vs revenue in yr 2016-2020')"
   ]
  },
  {
   "cell_type": "code",
   "execution_count": 30,
   "metadata": {},
   "outputs": [
    {
     "data": {
      "text/plain": [
       "<matplotlib.axes._subplots.AxesSubplot at 0x7f9f73feca90>"
      ]
     },
     "execution_count": 30,
     "metadata": {},
     "output_type": "execute_result"
    },
    {
     "data": {
      "image/png": "[encoded data removed]",
      "text/plain": [
       "<Figure size 1152x288 with 3 Axes>"
      ]
     },
     "metadata": {},
     "output_type": "display_data"
    }
   ],
   "source": [
    "fig, ax = plt.subplots(1, 3, figsize=(16,4))\n",
    "sns.boxplot(x='year',y='budget',data=df5br, ax=ax[0], showfliers = False)\n",
    "sns.boxplot(x='year',y='revenue',data=df5br, ax=ax[1], showfliers = False)\n",
    "sns.boxplot(x='year',y='profit',data=df5br, ax=ax[2], showfliers = False)"
   ]
  },
  {
   "cell_type": "code",
   "execution_count": null,
   "metadata": {
    "scrolled": true
   },
   "outputs": [],
   "source": [
    "df['genre'] = None\n",
    "for i in range(len(df.genres)):    \n",
    "    ls = df.genres[i].split(',')\n",
    "    df['genre'][i] = [ls[j][10:-2] for j in range(1,len(ls)-1,2)]\n",
    "    df['genre'][i].append(ls[-1][10:-3])"
   ]
  },
  {
   "cell_type": "code",
   "execution_count": 16,
   "metadata": {},
   "outputs": [
    {
     "ename": "AttributeError",
     "evalue": "'DataFrame' object has no attribute 'genre'",
     "output_type": "error",
     "traceback": [
      "\u001b[0;31m---------------------------------------------------------------------------\u001b[0m",
      "\u001b[0;31mAttributeError\u001b[0m                            Traceback (most recent call last)",
      "\u001b[0;32m<ipython-input-16-17e34ffc26b0>\u001b[0m in \u001b[0;36m<module>\u001b[0;34m()\u001b[0m\n\u001b[0;32m----> 1\u001b[0;31m \u001b[0mgen\u001b[0m \u001b[0;34m=\u001b[0m \u001b[0mpd\u001b[0m\u001b[0;34m.\u001b[0m\u001b[0mDataFrame\u001b[0m\u001b[0;34m(\u001b[0m\u001b[0mdf\u001b[0m\u001b[0;34m.\u001b[0m\u001b[0mgenre\u001b[0m\u001b[0;34m.\u001b[0m\u001b[0mtolist\u001b[0m\u001b[0;34m(\u001b[0m\u001b[0;34m)\u001b[0m\u001b[0;34m)\u001b[0m\u001b[0;34m.\u001b[0m\u001b[0mstack\u001b[0m\u001b[0;34m(\u001b[0m\u001b[0;34m)\u001b[0m\u001b[0;34m\u001b[0m\u001b[0;34m\u001b[0m\u001b[0m\n\u001b[0m",
      "\u001b[0;32m/Users/browz/opt/anaconda3/envs/learn-env/lib/python3.6/site-packages/pandas/core/generic.py\u001b[0m in \u001b[0;36m__getattr__\u001b[0;34m(self, name)\u001b[0m\n\u001b[1;32m   5177\u001b[0m             \u001b[0;32mif\u001b[0m \u001b[0mself\u001b[0m\u001b[0;34m.\u001b[0m\u001b[0m_info_axis\u001b[0m\u001b[0;34m.\u001b[0m\u001b[0m_can_hold_identifiers_and_holds_name\u001b[0m\u001b[0;34m(\u001b[0m\u001b[0mname\u001b[0m\u001b[0;34m)\u001b[0m\u001b[0;34m:\u001b[0m\u001b[0;34m\u001b[0m\u001b[0;34m\u001b[0m\u001b[0m\n\u001b[1;32m   5178\u001b[0m                 \u001b[0;32mreturn\u001b[0m \u001b[0mself\u001b[0m\u001b[0;34m[\u001b[0m\u001b[0mname\u001b[0m\u001b[0;34m]\u001b[0m\u001b[0;34m\u001b[0m\u001b[0;34m\u001b[0m\u001b[0m\n\u001b[0;32m-> 5179\u001b[0;31m             \u001b[0;32mreturn\u001b[0m \u001b[0mobject\u001b[0m\u001b[0;34m.\u001b[0m\u001b[0m__getattribute__\u001b[0m\u001b[0;34m(\u001b[0m\u001b[0mself\u001b[0m\u001b[0;34m,\u001b[0m \u001b[0mname\u001b[0m\u001b[0;34m)\u001b[0m\u001b[0;34m\u001b[0m\u001b[0;34m\u001b[0m\u001b[0m\n\u001b[0m\u001b[1;32m   5180\u001b[0m \u001b[0;34m\u001b[0m\u001b[0m\n\u001b[1;32m   5181\u001b[0m     \u001b[0;32mdef\u001b[0m \u001b[0m__setattr__\u001b[0m\u001b[0;34m(\u001b[0m\u001b[0mself\u001b[0m\u001b[0;34m,\u001b[0m \u001b[0mname\u001b[0m\u001b[0;34m,\u001b[0m \u001b[0mvalue\u001b[0m\u001b[0;34m)\u001b[0m\u001b[0;34m:\u001b[0m\u001b[0;34m\u001b[0m\u001b[0;34m\u001b[0m\u001b[0m\n",
      "\u001b[0;31mAttributeError\u001b[0m: 'DataFrame' object has no attribute 'genre'"
     ]
    }
   ],
   "source": [
    "gen = pd.DataFrame(df.genre.tolist()).stack()"
   ]
  },
  {
   "cell_type": "code",
   "execution_count": 42,
   "metadata": {},
   "outputs": [
    {
     "data": {
      "text/plain": [
       "<pandas.core.groupby.generic.DataFrameGroupBy object at 0x7fa9dc0875b0>"
      ]
     },
     "execution_count": 42,
     "metadata": {},
     "output_type": "execute_result"
    }
   ],
   "source": [
    "gen = pd.DataFrame(df.genre.tolist()).stack()\n",
    "gen.index = gen.index.droplevel(-1)\n",
    "gen.name = 'gen'\n",
    "df.join(gen).groupby('gen')"
   ]
  },
  {
   "cell_type": "code",
   "execution_count": 15,
   "metadata": {
    "scrolled": true
   },
   "outputs": [
    {
     "ename": "NameError",
     "evalue": "name 'gen' is not defined",
     "output_type": "error",
     "traceback": [
      "\u001b[0;31m---------------------------------------------------------------------------\u001b[0m",
      "\u001b[0;31mNameError\u001b[0m                                 Traceback (most recent call last)",
      "\u001b[0;32m<ipython-input-15-cf12ad384969>\u001b[0m in \u001b[0;36m<module>\u001b[0;34m()\u001b[0m\n\u001b[0;32m----> 1\u001b[0;31m \u001b[0mdf\u001b[0m\u001b[0;34m.\u001b[0m\u001b[0mjoin\u001b[0m\u001b[0;34m(\u001b[0m\u001b[0mgen\u001b[0m\u001b[0;34m)\u001b[0m\u001b[0;34m.\u001b[0m\u001b[0mgroupby\u001b[0m\u001b[0;34m(\u001b[0m\u001b[0;34m'gen'\u001b[0m\u001b[0;34m)\u001b[0m\u001b[0;34m.\u001b[0m\u001b[0msize\u001b[0m\u001b[0;34m(\u001b[0m\u001b[0;34m)\u001b[0m\u001b[0;34m.\u001b[0m\u001b[0msort_values\u001b[0m\u001b[0;34m(\u001b[0m\u001b[0;34m)\u001b[0m\u001b[0;34m.\u001b[0m\u001b[0mplot\u001b[0m\u001b[0;34m(\u001b[0m\u001b[0mkind\u001b[0m\u001b[0;34m=\u001b[0m\u001b[0;34m'barh'\u001b[0m\u001b[0;34m)\u001b[0m\u001b[0;34m\u001b[0m\u001b[0;34m\u001b[0m\u001b[0m\n\u001b[0m\u001b[1;32m      2\u001b[0m \u001b[0mplt\u001b[0m\u001b[0;34m.\u001b[0m\u001b[0mxlabel\u001b[0m\u001b[0;34m(\u001b[0m\u001b[0;34m'Number of movies'\u001b[0m\u001b[0;34m)\u001b[0m\u001b[0;34m\u001b[0m\u001b[0;34m\u001b[0m\u001b[0m\n",
      "\u001b[0;31mNameError\u001b[0m: name 'gen' is not defined"
     ]
    }
   ],
   "source": [
    "df.join(gen).groupby('gen').size().sort_values().plot(kind='barh')\n",
    "plt.xlabel('Number of movies')"
   ]
  },
  {
   "cell_type": "code",
   "execution_count": 78,
   "metadata": {},
   "outputs": [
    {
     "data": {
      "text/plain": [
       "Text(0.5, 0, 'USD')"
      ]
     },
     "execution_count": 78,
     "metadata": {},
     "output_type": "execute_result"
    },
    {
     "data": {
      "image/png": "[encoded data removed]",
      "text/plain": [
       "<Figure size 432x288 with 1 Axes>"
      ]
     },
     "metadata": {},
     "output_type": "display_data"
    }
   ],
   "source": [
    "df.sort_values('profit', ascending=False)[:10][::-1].plot(x='title',y='profit',kind='barh')\n",
    "plt.title('Top 10 most lucrative movies')\n",
    "plt.xlabel('USD')"
   ]
  },
  {
   "cell_type": "code",
   "execution_count": 81,
   "metadata": {
    "scrolled": false
   },
   "outputs": [
    {
     "data": {
      "text/html": [
       "<div>\n",
       "<style scoped>\n",
       "    .dataframe tbody tr th:only-of-type {\n",
       "        vertical-align: middle;\n",
       "    }\n",
       "\n",
       "    .dataframe tbody tr th {\n",
       "        vertical-align: top;\n",
       "    }\n",
       "\n",
       "    .dataframe thead th {\n",
       "        text-align: right;\n",
       "    }\n",
       "</style>\n",
       "<table border=\"1\" class=\"dataframe\">\n",
       "  <thead>\n",
       "    <tr style=\"text-align: right;\">\n",
       "      <th></th>\n",
       "      <th>mean</th>\n",
       "      <th>median</th>\n",
       "      <th>std</th>\n",
       "    </tr>\n",
       "    <tr>\n",
       "      <th>gen</th>\n",
       "      <th></th>\n",
       "      <th></th>\n",
       "      <th></th>\n",
       "    </tr>\n",
       "  </thead>\n",
       "  <tbody>\n",
       "    <tr>\n",
       "      <th>Animation</th>\n",
       "      <td>1.482315e+08</td>\n",
       "      <td>54415416.5</td>\n",
       "      <td>2.376960e+08</td>\n",
       "    </tr>\n",
       "    <tr>\n",
       "      <th>Adventure</th>\n",
       "      <td>1.048511e+08</td>\n",
       "      <td>49973072.0</td>\n",
       "      <td>1.283812e+09</td>\n",
       "    </tr>\n",
       "    <tr>\n",
       "      <th>Fantasy</th>\n",
       "      <td>1.362291e+08</td>\n",
       "      <td>40270477.0</td>\n",
       "      <td>2.573634e+08</td>\n",
       "    </tr>\n",
       "    <tr>\n",
       "      <th>Family</th>\n",
       "      <td>1.159722e+08</td>\n",
       "      <td>36376893.5</td>\n",
       "      <td>2.071723e+08</td>\n",
       "    </tr>\n",
       "    <tr>\n",
       "      <th>Action</th>\n",
       "      <td>4.840081e+07</td>\n",
       "      <td>24042224.0</td>\n",
       "      <td>1.081103e+09</td>\n",
       "    </tr>\n",
       "    <tr>\n",
       "      <th>Science Fiction</th>\n",
       "      <td>1.177351e+08</td>\n",
       "      <td>22120318.0</td>\n",
       "      <td>2.702383e+08</td>\n",
       "    </tr>\n",
       "    <tr>\n",
       "      <th>Comedy</th>\n",
       "      <td>1.074224e+07</td>\n",
       "      <td>15621352.5</td>\n",
       "      <td>1.171935e+09</td>\n",
       "    </tr>\n",
       "    <tr>\n",
       "      <th>Romance</th>\n",
       "      <td>4.748634e+07</td>\n",
       "      <td>12657474.0</td>\n",
       "      <td>1.489664e+08</td>\n",
       "    </tr>\n",
       "    <tr>\n",
       "      <th>Mystery</th>\n",
       "      <td>3.181006e+07</td>\n",
       "      <td>11726793.0</td>\n",
       "      <td>3.187455e+08</td>\n",
       "    </tr>\n",
       "    <tr>\n",
       "      <th>War</th>\n",
       "      <td>4.195495e+07</td>\n",
       "      <td>11234081.0</td>\n",
       "      <td>1.638140e+08</td>\n",
       "    </tr>\n",
       "    <tr>\n",
       "      <th>Crime</th>\n",
       "      <td>4.102551e+07</td>\n",
       "      <td>11101889.0</td>\n",
       "      <td>1.029343e+08</td>\n",
       "    </tr>\n",
       "    <tr>\n",
       "      <th>Thriller</th>\n",
       "      <td>4.014891e+07</td>\n",
       "      <td>11072369.5</td>\n",
       "      <td>2.081085e+08</td>\n",
       "    </tr>\n",
       "    <tr>\n",
       "      <th>Horror</th>\n",
       "      <td>3.497048e+07</td>\n",
       "      <td>11002607.0</td>\n",
       "      <td>7.332775e+07</td>\n",
       "    </tr>\n",
       "    <tr>\n",
       "      <th>Music</th>\n",
       "      <td>5.860595e+07</td>\n",
       "      <td>9208099.0</td>\n",
       "      <td>1.595068e+08</td>\n",
       "    </tr>\n",
       "    <tr>\n",
       "      <th>Drama</th>\n",
       "      <td>1.614871e+07</td>\n",
       "      <td>5263487.5</td>\n",
       "      <td>7.475111e+08</td>\n",
       "    </tr>\n",
       "    <tr>\n",
       "      <th>History</th>\n",
       "      <td>-3.628002e+07</td>\n",
       "      <td>5112895.0</td>\n",
       "      <td>9.518309e+08</td>\n",
       "    </tr>\n",
       "    <tr>\n",
       "      <th>Western</th>\n",
       "      <td>3.162502e+07</td>\n",
       "      <td>4900000.0</td>\n",
       "      <td>8.801320e+07</td>\n",
       "    </tr>\n",
       "    <tr>\n",
       "      <th>TV Movie</th>\n",
       "      <td>1.333279e+06</td>\n",
       "      <td>1708.0</td>\n",
       "      <td>3.390830e+06</td>\n",
       "    </tr>\n",
       "    <tr>\n",
       "      <th>Documentary</th>\n",
       "      <td>7.635384e+06</td>\n",
       "      <td>-244398.0</td>\n",
       "      <td>2.842111e+07</td>\n",
       "    </tr>\n",
       "    <tr>\n",
       "      <th></th>\n",
       "      <td>-2.275786e+07</td>\n",
       "      <td>-492343.0</td>\n",
       "      <td>8.867968e+07</td>\n",
       "    </tr>\n",
       "  </tbody>\n",
       "</table>\n",
       "</div>"
      ],
      "text/plain": [
       "                         mean      median           std\n",
       "gen                                                    \n",
       "Animation        1.482315e+08  54415416.5  2.376960e+08\n",
       "Adventure        1.048511e+08  49973072.0  1.283812e+09\n",
       "Fantasy          1.362291e+08  40270477.0  2.573634e+08\n",
       "Family           1.159722e+08  36376893.5  2.071723e+08\n",
       "Action           4.840081e+07  24042224.0  1.081103e+09\n",
       "Science Fiction  1.177351e+08  22120318.0  2.702383e+08\n",
       "Comedy           1.074224e+07  15621352.5  1.171935e+09\n",
       "Romance          4.748634e+07  12657474.0  1.489664e+08\n",
       "Mystery          3.181006e+07  11726793.0  3.187455e+08\n",
       "War              4.195495e+07  11234081.0  1.638140e+08\n",
       "Crime            4.102551e+07  11101889.0  1.029343e+08\n",
       "Thriller         4.014891e+07  11072369.5  2.081085e+08\n",
       "Horror           3.497048e+07  11002607.0  7.332775e+07\n",
       "Music            5.860595e+07   9208099.0  1.595068e+08\n",
       "Drama            1.614871e+07   5263487.5  7.475111e+08\n",
       "History         -3.628002e+07   5112895.0  9.518309e+08\n",
       "Western          3.162502e+07   4900000.0  8.801320e+07\n",
       "TV Movie         1.333279e+06      1708.0  3.390830e+06\n",
       "Documentary      7.635384e+06   -244398.0  2.842111e+07\n",
       "                -2.275786e+07   -492343.0  8.867968e+07"
      ]
     },
     "execution_count": 81,
     "metadata": {},
     "output_type": "execute_result"
    }
   ],
   "source": [
    "df.join(gen).groupby('gen')['profit'].agg(['mean','median','std']).sort_values(by='median', ascending=False)"
   ]
  },
  {
   "cell_type": "code",
   "execution_count": 160,
   "metadata": {},
   "outputs": [
    {
     "data": {
      "text/html": [
       "<div>\n",
       "<style scoped>\n",
       "    .dataframe tbody tr th:only-of-type {\n",
       "        vertical-align: middle;\n",
       "    }\n",
       "\n",
       "    .dataframe tbody tr th {\n",
       "        vertical-align: top;\n",
       "    }\n",
       "\n",
       "    .dataframe thead th {\n",
       "        text-align: right;\n",
       "    }\n",
       "</style>\n",
       "<table border=\"1\" class=\"dataframe\">\n",
       "  <thead>\n",
       "    <tr style=\"text-align: right;\">\n",
       "      <th></th>\n",
       "      <th>mean</th>\n",
       "      <th>median</th>\n",
       "      <th>std</th>\n",
       "    </tr>\n",
       "    <tr>\n",
       "      <th>gen</th>\n",
       "      <th></th>\n",
       "      <th></th>\n",
       "      <th></th>\n",
       "    </tr>\n",
       "  </thead>\n",
       "  <tbody>\n",
       "    <tr>\n",
       "      <th>Animation</th>\n",
       "      <td>1.482315e+08</td>\n",
       "      <td>54415416.5</td>\n",
       "      <td>2.376960e+08</td>\n",
       "    </tr>\n",
       "    <tr>\n",
       "      <th>Fantasy</th>\n",
       "      <td>1.362291e+08</td>\n",
       "      <td>40270477.0</td>\n",
       "      <td>2.573634e+08</td>\n",
       "    </tr>\n",
       "    <tr>\n",
       "      <th>Science Fiction</th>\n",
       "      <td>1.177351e+08</td>\n",
       "      <td>22120318.0</td>\n",
       "      <td>2.702383e+08</td>\n",
       "    </tr>\n",
       "    <tr>\n",
       "      <th>Family</th>\n",
       "      <td>1.159722e+08</td>\n",
       "      <td>36376893.5</td>\n",
       "      <td>2.071723e+08</td>\n",
       "    </tr>\n",
       "    <tr>\n",
       "      <th>Adventure</th>\n",
       "      <td>1.048511e+08</td>\n",
       "      <td>49973072.0</td>\n",
       "      <td>1.283812e+09</td>\n",
       "    </tr>\n",
       "    <tr>\n",
       "      <th>Music</th>\n",
       "      <td>5.860595e+07</td>\n",
       "      <td>9208099.0</td>\n",
       "      <td>1.595068e+08</td>\n",
       "    </tr>\n",
       "    <tr>\n",
       "      <th>Action</th>\n",
       "      <td>4.840081e+07</td>\n",
       "      <td>24042224.0</td>\n",
       "      <td>1.081103e+09</td>\n",
       "    </tr>\n",
       "    <tr>\n",
       "      <th>Romance</th>\n",
       "      <td>4.748634e+07</td>\n",
       "      <td>12657474.0</td>\n",
       "      <td>1.489664e+08</td>\n",
       "    </tr>\n",
       "    <tr>\n",
       "      <th>War</th>\n",
       "      <td>4.195495e+07</td>\n",
       "      <td>11234081.0</td>\n",
       "      <td>1.638140e+08</td>\n",
       "    </tr>\n",
       "    <tr>\n",
       "      <th>Crime</th>\n",
       "      <td>4.102551e+07</td>\n",
       "      <td>11101889.0</td>\n",
       "      <td>1.029343e+08</td>\n",
       "    </tr>\n",
       "    <tr>\n",
       "      <th>Thriller</th>\n",
       "      <td>4.014891e+07</td>\n",
       "      <td>11072369.5</td>\n",
       "      <td>2.081085e+08</td>\n",
       "    </tr>\n",
       "    <tr>\n",
       "      <th>Horror</th>\n",
       "      <td>3.497048e+07</td>\n",
       "      <td>11002607.0</td>\n",
       "      <td>7.332775e+07</td>\n",
       "    </tr>\n",
       "    <tr>\n",
       "      <th>Mystery</th>\n",
       "      <td>3.181006e+07</td>\n",
       "      <td>11726793.0</td>\n",
       "      <td>3.187455e+08</td>\n",
       "    </tr>\n",
       "    <tr>\n",
       "      <th>Western</th>\n",
       "      <td>3.162502e+07</td>\n",
       "      <td>4900000.0</td>\n",
       "      <td>8.801320e+07</td>\n",
       "    </tr>\n",
       "    <tr>\n",
       "      <th>Drama</th>\n",
       "      <td>1.614871e+07</td>\n",
       "      <td>5263487.5</td>\n",
       "      <td>7.475111e+08</td>\n",
       "    </tr>\n",
       "    <tr>\n",
       "      <th>Comedy</th>\n",
       "      <td>1.074224e+07</td>\n",
       "      <td>15621352.5</td>\n",
       "      <td>1.171935e+09</td>\n",
       "    </tr>\n",
       "    <tr>\n",
       "      <th>Documentary</th>\n",
       "      <td>7.635384e+06</td>\n",
       "      <td>-244398.0</td>\n",
       "      <td>2.842111e+07</td>\n",
       "    </tr>\n",
       "    <tr>\n",
       "      <th>TV Movie</th>\n",
       "      <td>1.333279e+06</td>\n",
       "      <td>1708.0</td>\n",
       "      <td>3.390830e+06</td>\n",
       "    </tr>\n",
       "    <tr>\n",
       "      <th></th>\n",
       "      <td>-2.275786e+07</td>\n",
       "      <td>-492343.0</td>\n",
       "      <td>8.867968e+07</td>\n",
       "    </tr>\n",
       "    <tr>\n",
       "      <th>History</th>\n",
       "      <td>-3.628002e+07</td>\n",
       "      <td>5112895.0</td>\n",
       "      <td>9.518309e+08</td>\n",
       "    </tr>\n",
       "  </tbody>\n",
       "</table>\n",
       "</div>"
      ],
      "text/plain": [
       "                         mean      median           std\n",
       "gen                                                    \n",
       "Animation        1.482315e+08  54415416.5  2.376960e+08\n",
       "Fantasy          1.362291e+08  40270477.0  2.573634e+08\n",
       "Science Fiction  1.177351e+08  22120318.0  2.702383e+08\n",
       "Family           1.159722e+08  36376893.5  2.071723e+08\n",
       "Adventure        1.048511e+08  49973072.0  1.283812e+09\n",
       "Music            5.860595e+07   9208099.0  1.595068e+08\n",
       "Action           4.840081e+07  24042224.0  1.081103e+09\n",
       "Romance          4.748634e+07  12657474.0  1.489664e+08\n",
       "War              4.195495e+07  11234081.0  1.638140e+08\n",
       "Crime            4.102551e+07  11101889.0  1.029343e+08\n",
       "Thriller         4.014891e+07  11072369.5  2.081085e+08\n",
       "Horror           3.497048e+07  11002607.0  7.332775e+07\n",
       "Mystery          3.181006e+07  11726793.0  3.187455e+08\n",
       "Western          3.162502e+07   4900000.0  8.801320e+07\n",
       "Drama            1.614871e+07   5263487.5  7.475111e+08\n",
       "Comedy           1.074224e+07  15621352.5  1.171935e+09\n",
       "Documentary      7.635384e+06   -244398.0  2.842111e+07\n",
       "TV Movie         1.333279e+06      1708.0  3.390830e+06\n",
       "                -2.275786e+07   -492343.0  8.867968e+07\n",
       "History         -3.628002e+07   5112895.0  9.518309e+08"
      ]
     },
     "execution_count": 160,
     "metadata": {},
     "output_type": "execute_result"
    }
   ],
   "source": [
    "df.join(gen).groupby('gen')['profit'].agg(['mean','median','std']).sort_values(by='mean', ascending=False)"
   ]
  },
  {
   "cell_type": "code",
   "execution_count": 159,
   "metadata": {},
   "outputs": [
    {
     "data": {
      "text/plain": [
       "Text(0.5, 1.0, 'ROI')"
      ]
     },
     "execution_count": 159,
     "metadata": {},
     "output_type": "execute_result"
    },
    {
     "data": {
      "image/png": "[encoded data removed]",
      "text/plain": [
       "<Figure size 720x576 with 1 Axes>"
      ]
     },
     "metadata": {},
     "output_type": "display_data"
    }
   ],
   "source": [
    "df.join(gen).groupby('gen')['ROI(%)'].plot(kind='kde',figsize=(10,8))\n",
    "#df[df.genre.str.join(' ').str.contains('Action')]['ROI'].plot(kind='kde',figsize=(10,8),color='k')\n",
    "plt.legend()\n",
    "#plt.ylim(0,10)\n",
    "plt.xlim(-3000, 3000)\n",
    "plt.title('ROI')"
   ]
  },
  {
   "cell_type": "code",
   "execution_count": 123,
   "metadata": {
    "scrolled": false
   },
   "outputs": [
    {
     "data": {
      "text/html": [
       "<div>\n",
       "<style scoped>\n",
       "    .dataframe tbody tr th:only-of-type {\n",
       "        vertical-align: middle;\n",
       "    }\n",
       "\n",
       "    .dataframe tbody tr th {\n",
       "        vertical-align: top;\n",
       "    }\n",
       "\n",
       "    .dataframe thead th {\n",
       "        text-align: right;\n",
       "    }\n",
       "</style>\n",
       "<table border=\"1\" class=\"dataframe\">\n",
       "  <thead>\n",
       "    <tr style=\"text-align: right;\">\n",
       "      <th></th>\n",
       "      <th>mean</th>\n",
       "      <th>median</th>\n",
       "      <th>std</th>\n",
       "    </tr>\n",
       "    <tr>\n",
       "      <th>gen</th>\n",
       "      <th></th>\n",
       "      <th></th>\n",
       "      <th></th>\n",
       "    </tr>\n",
       "  </thead>\n",
       "  <tbody>\n",
       "    <tr>\n",
       "      <th>Animation</th>\n",
       "      <td>540.353614</td>\n",
       "      <td>143.369226</td>\n",
       "      <td>2254.095121</td>\n",
       "    </tr>\n",
       "    <tr>\n",
       "      <th>Family</th>\n",
       "      <td>694.196425</td>\n",
       "      <td>133.212579</td>\n",
       "      <td>6633.208348</td>\n",
       "    </tr>\n",
       "    <tr>\n",
       "      <th>Horror</th>\n",
       "      <td>4091.477401</td>\n",
       "      <td>131.695180</td>\n",
       "      <td>56816.406071</td>\n",
       "    </tr>\n",
       "    <tr>\n",
       "      <th>Adventure</th>\n",
       "      <td>305.244503</td>\n",
       "      <td>121.909058</td>\n",
       "      <td>892.056988</td>\n",
       "    </tr>\n",
       "    <tr>\n",
       "      <th>Fantasy</th>\n",
       "      <td>325.016719</td>\n",
       "      <td>112.335282</td>\n",
       "      <td>1182.555553</td>\n",
       "    </tr>\n",
       "    <tr>\n",
       "      <th>Comedy</th>\n",
       "      <td>1469.814097</td>\n",
       "      <td>108.996928</td>\n",
       "      <td>35342.953536</td>\n",
       "    </tr>\n",
       "    <tr>\n",
       "      <th>Romance</th>\n",
       "      <td>927.490320</td>\n",
       "      <td>107.944848</td>\n",
       "      <td>17426.581023</td>\n",
       "    </tr>\n",
       "    <tr>\n",
       "      <th>Music</th>\n",
       "      <td>658.903510</td>\n",
       "      <td>107.594937</td>\n",
       "      <td>3767.146580</td>\n",
       "    </tr>\n",
       "    <tr>\n",
       "      <th>Mystery</th>\n",
       "      <td>3920.510797</td>\n",
       "      <td>95.285383</td>\n",
       "      <td>62201.029637</td>\n",
       "    </tr>\n",
       "    <tr>\n",
       "      <th>Science Fiction</th>\n",
       "      <td>284.407624</td>\n",
       "      <td>94.488779</td>\n",
       "      <td>885.122469</td>\n",
       "    </tr>\n",
       "    <tr>\n",
       "      <th>Action</th>\n",
       "      <td>1346.985723</td>\n",
       "      <td>92.558285</td>\n",
       "      <td>30162.929537</td>\n",
       "    </tr>\n",
       "    <tr>\n",
       "      <th>Western</th>\n",
       "      <td>357.231825</td>\n",
       "      <td>81.209466</td>\n",
       "      <td>1033.227685</td>\n",
       "    </tr>\n",
       "    <tr>\n",
       "      <th>Crime</th>\n",
       "      <td>270.589808</td>\n",
       "      <td>76.555283</td>\n",
       "      <td>1291.849212</td>\n",
       "    </tr>\n",
       "    <tr>\n",
       "      <th>Thriller</th>\n",
       "      <td>958.113824</td>\n",
       "      <td>73.846873</td>\n",
       "      <td>24253.906052</td>\n",
       "    </tr>\n",
       "    <tr>\n",
       "      <th>Drama</th>\n",
       "      <td>1166.338506</td>\n",
       "      <td>58.709624</td>\n",
       "      <td>30089.399740</td>\n",
       "    </tr>\n",
       "    <tr>\n",
       "      <th>War</th>\n",
       "      <td>251.325160</td>\n",
       "      <td>55.985592</td>\n",
       "      <td>804.729859</td>\n",
       "    </tr>\n",
       "    <tr>\n",
       "      <th>TV Movie</th>\n",
       "      <td>7.400611</td>\n",
       "      <td>27.142857</td>\n",
       "      <td>111.692169</td>\n",
       "    </tr>\n",
       "    <tr>\n",
       "      <th>History</th>\n",
       "      <td>139.692839</td>\n",
       "      <td>18.333333</td>\n",
       "      <td>341.010399</td>\n",
       "    </tr>\n",
       "    <tr>\n",
       "      <th>Documentary</th>\n",
       "      <td>811.869620</td>\n",
       "      <td>-72.998304</td>\n",
       "      <td>4626.407313</td>\n",
       "    </tr>\n",
       "    <tr>\n",
       "      <th></th>\n",
       "      <td>569.884961</td>\n",
       "      <td>-93.125000</td>\n",
       "      <td>3138.380558</td>\n",
       "    </tr>\n",
       "  </tbody>\n",
       "</table>\n",
       "</div>"
      ],
      "text/plain": [
       "                        mean      median           std\n",
       "gen                                                   \n",
       "Animation         540.353614  143.369226   2254.095121\n",
       "Family            694.196425  133.212579   6633.208348\n",
       "Horror           4091.477401  131.695180  56816.406071\n",
       "Adventure         305.244503  121.909058    892.056988\n",
       "Fantasy           325.016719  112.335282   1182.555553\n",
       "Comedy           1469.814097  108.996928  35342.953536\n",
       "Romance           927.490320  107.944848  17426.581023\n",
       "Music             658.903510  107.594937   3767.146580\n",
       "Mystery          3920.510797   95.285383  62201.029637\n",
       "Science Fiction   284.407624   94.488779    885.122469\n",
       "Action           1346.985723   92.558285  30162.929537\n",
       "Western           357.231825   81.209466   1033.227685\n",
       "Crime             270.589808   76.555283   1291.849212\n",
       "Thriller          958.113824   73.846873  24253.906052\n",
       "Drama            1166.338506   58.709624  30089.399740\n",
       "War               251.325160   55.985592    804.729859\n",
       "TV Movie            7.400611   27.142857    111.692169\n",
       "History           139.692839   18.333333    341.010399\n",
       "Documentary       811.869620  -72.998304   4626.407313\n",
       "                  569.884961  -93.125000   3138.380558"
      ]
     },
     "execution_count": 123,
     "metadata": {},
     "output_type": "execute_result"
    }
   ],
   "source": [
    "#Sort ROI by median\n",
    "df.join(gen).groupby('gen')['ROI(%)'].agg(['mean','median','std']).sort_values(by='median', ascending=False)"
   ]
  },
  {
   "cell_type": "code",
   "execution_count": 157,
   "metadata": {},
   "outputs": [
    {
     "data": {
      "text/html": [
       "<div>\n",
       "<style scoped>\n",
       "    .dataframe tbody tr th:only-of-type {\n",
       "        vertical-align: middle;\n",
       "    }\n",
       "\n",
       "    .dataframe tbody tr th {\n",
       "        vertical-align: top;\n",
       "    }\n",
       "\n",
       "    .dataframe thead th {\n",
       "        text-align: right;\n",
       "    }\n",
       "</style>\n",
       "<table border=\"1\" class=\"dataframe\">\n",
       "  <thead>\n",
       "    <tr style=\"text-align: right;\">\n",
       "      <th></th>\n",
       "      <th>mean</th>\n",
       "      <th>median</th>\n",
       "      <th>std</th>\n",
       "    </tr>\n",
       "    <tr>\n",
       "      <th>gen</th>\n",
       "      <th></th>\n",
       "      <th></th>\n",
       "      <th></th>\n",
       "    </tr>\n",
       "  </thead>\n",
       "  <tbody>\n",
       "    <tr>\n",
       "      <th>Horror</th>\n",
       "      <td>4091.477401</td>\n",
       "      <td>131.695180</td>\n",
       "      <td>56816.406071</td>\n",
       "    </tr>\n",
       "    <tr>\n",
       "      <th>Mystery</th>\n",
       "      <td>3920.510797</td>\n",
       "      <td>95.285383</td>\n",
       "      <td>62201.029637</td>\n",
       "    </tr>\n",
       "    <tr>\n",
       "      <th>Comedy</th>\n",
       "      <td>1469.814097</td>\n",
       "      <td>108.996928</td>\n",
       "      <td>35342.953536</td>\n",
       "    </tr>\n",
       "    <tr>\n",
       "      <th>Action</th>\n",
       "      <td>1346.985723</td>\n",
       "      <td>92.558285</td>\n",
       "      <td>30162.929537</td>\n",
       "    </tr>\n",
       "    <tr>\n",
       "      <th>Drama</th>\n",
       "      <td>1166.338506</td>\n",
       "      <td>58.709624</td>\n",
       "      <td>30089.399740</td>\n",
       "    </tr>\n",
       "    <tr>\n",
       "      <th>Thriller</th>\n",
       "      <td>958.113824</td>\n",
       "      <td>73.846873</td>\n",
       "      <td>24253.906052</td>\n",
       "    </tr>\n",
       "    <tr>\n",
       "      <th>Romance</th>\n",
       "      <td>927.490320</td>\n",
       "      <td>107.944848</td>\n",
       "      <td>17426.581023</td>\n",
       "    </tr>\n",
       "    <tr>\n",
       "      <th>Documentary</th>\n",
       "      <td>811.869620</td>\n",
       "      <td>-72.998304</td>\n",
       "      <td>4626.407313</td>\n",
       "    </tr>\n",
       "    <tr>\n",
       "      <th>Family</th>\n",
       "      <td>694.196425</td>\n",
       "      <td>133.212579</td>\n",
       "      <td>6633.208348</td>\n",
       "    </tr>\n",
       "    <tr>\n",
       "      <th>Music</th>\n",
       "      <td>658.903510</td>\n",
       "      <td>107.594937</td>\n",
       "      <td>3767.146580</td>\n",
       "    </tr>\n",
       "    <tr>\n",
       "      <th></th>\n",
       "      <td>569.884961</td>\n",
       "      <td>-93.125000</td>\n",
       "      <td>3138.380558</td>\n",
       "    </tr>\n",
       "    <tr>\n",
       "      <th>Animation</th>\n",
       "      <td>540.353614</td>\n",
       "      <td>143.369226</td>\n",
       "      <td>2254.095121</td>\n",
       "    </tr>\n",
       "    <tr>\n",
       "      <th>Western</th>\n",
       "      <td>357.231825</td>\n",
       "      <td>81.209466</td>\n",
       "      <td>1033.227685</td>\n",
       "    </tr>\n",
       "    <tr>\n",
       "      <th>Fantasy</th>\n",
       "      <td>325.016719</td>\n",
       "      <td>112.335282</td>\n",
       "      <td>1182.555553</td>\n",
       "    </tr>\n",
       "    <tr>\n",
       "      <th>Adventure</th>\n",
       "      <td>305.244503</td>\n",
       "      <td>121.909058</td>\n",
       "      <td>892.056988</td>\n",
       "    </tr>\n",
       "    <tr>\n",
       "      <th>Science Fiction</th>\n",
       "      <td>284.407624</td>\n",
       "      <td>94.488779</td>\n",
       "      <td>885.122469</td>\n",
       "    </tr>\n",
       "    <tr>\n",
       "      <th>Crime</th>\n",
       "      <td>270.589808</td>\n",
       "      <td>76.555283</td>\n",
       "      <td>1291.849212</td>\n",
       "    </tr>\n",
       "    <tr>\n",
       "      <th>War</th>\n",
       "      <td>251.325160</td>\n",
       "      <td>55.985592</td>\n",
       "      <td>804.729859</td>\n",
       "    </tr>\n",
       "    <tr>\n",
       "      <th>History</th>\n",
       "      <td>139.692839</td>\n",
       "      <td>18.333333</td>\n",
       "      <td>341.010399</td>\n",
       "    </tr>\n",
       "    <tr>\n",
       "      <th>TV Movie</th>\n",
       "      <td>7.400611</td>\n",
       "      <td>27.142857</td>\n",
       "      <td>111.692169</td>\n",
       "    </tr>\n",
       "  </tbody>\n",
       "</table>\n",
       "</div>"
      ],
      "text/plain": [
       "                        mean      median           std\n",
       "gen                                                   \n",
       "Horror           4091.477401  131.695180  56816.406071\n",
       "Mystery          3920.510797   95.285383  62201.029637\n",
       "Comedy           1469.814097  108.996928  35342.953536\n",
       "Action           1346.985723   92.558285  30162.929537\n",
       "Drama            1166.338506   58.709624  30089.399740\n",
       "Thriller          958.113824   73.846873  24253.906052\n",
       "Romance           927.490320  107.944848  17426.581023\n",
       "Documentary       811.869620  -72.998304   4626.407313\n",
       "Family            694.196425  133.212579   6633.208348\n",
       "Music             658.903510  107.594937   3767.146580\n",
       "                  569.884961  -93.125000   3138.380558\n",
       "Animation         540.353614  143.369226   2254.095121\n",
       "Western           357.231825   81.209466   1033.227685\n",
       "Fantasy           325.016719  112.335282   1182.555553\n",
       "Adventure         305.244503  121.909058    892.056988\n",
       "Science Fiction   284.407624   94.488779    885.122469\n",
       "Crime             270.589808   76.555283   1291.849212\n",
       "War               251.325160   55.985592    804.729859\n",
       "History           139.692839   18.333333    341.010399\n",
       "TV Movie            7.400611   27.142857    111.692169"
      ]
     },
     "execution_count": 157,
     "metadata": {},
     "output_type": "execute_result"
    }
   ],
   "source": [
    "#Sort ROI by mean\n",
    "df.join(gen).groupby('gen')['ROI(%)'].agg(['mean','median','std']).sort_values(by='mean', ascending=False)"
   ]
  },
  {
   "cell_type": "code",
   "execution_count": 52,
   "metadata": {},
   "outputs": [
    {
     "data": {
      "text/html": [
       "<div>\n",
       "<style scoped>\n",
       "    .dataframe tbody tr th:only-of-type {\n",
       "        vertical-align: middle;\n",
       "    }\n",
       "\n",
       "    .dataframe tbody tr th {\n",
       "        vertical-align: top;\n",
       "    }\n",
       "\n",
       "    .dataframe thead th {\n",
       "        text-align: right;\n",
       "    }\n",
       "</style>\n",
       "<table border=\"1\" class=\"dataframe\">\n",
       "  <thead>\n",
       "    <tr style=\"text-align: right;\">\n",
       "      <th></th>\n",
       "      <th>mean</th>\n",
       "      <th>median</th>\n",
       "      <th>std</th>\n",
       "    </tr>\n",
       "    <tr>\n",
       "      <th>gen</th>\n",
       "      <th></th>\n",
       "      <th></th>\n",
       "      <th></th>\n",
       "    </tr>\n",
       "  </thead>\n",
       "  <tbody>\n",
       "    <tr>\n",
       "      <th>Documentary</th>\n",
       "      <td>7.105825</td>\n",
       "      <td>7.00</td>\n",
       "      <td>1.101410</td>\n",
       "    </tr>\n",
       "    <tr>\n",
       "      <th>History</th>\n",
       "      <td>6.874551</td>\n",
       "      <td>7.00</td>\n",
       "      <td>0.768474</td>\n",
       "    </tr>\n",
       "    <tr>\n",
       "      <th>Music</th>\n",
       "      <td>6.858654</td>\n",
       "      <td>6.85</td>\n",
       "      <td>0.870295</td>\n",
       "    </tr>\n",
       "    <tr>\n",
       "      <th>War</th>\n",
       "      <td>6.823237</td>\n",
       "      <td>6.90</td>\n",
       "      <td>0.830286</td>\n",
       "    </tr>\n",
       "    <tr>\n",
       "      <th>Animation</th>\n",
       "      <td>6.770460</td>\n",
       "      <td>6.80</td>\n",
       "      <td>0.835311</td>\n",
       "    </tr>\n",
       "    <tr>\n",
       "      <th>Drama</th>\n",
       "      <td>6.728900</td>\n",
       "      <td>6.80</td>\n",
       "      <td>0.909742</td>\n",
       "    </tr>\n",
       "    <tr>\n",
       "      <th>Western</th>\n",
       "      <td>6.713095</td>\n",
       "      <td>6.80</td>\n",
       "      <td>0.930058</td>\n",
       "    </tr>\n",
       "    <tr>\n",
       "      <th>Crime</th>\n",
       "      <td>6.538831</td>\n",
       "      <td>6.50</td>\n",
       "      <td>0.890878</td>\n",
       "    </tr>\n",
       "    <tr>\n",
       "      <th>Romance</th>\n",
       "      <td>6.530907</td>\n",
       "      <td>6.60</td>\n",
       "      <td>0.937084</td>\n",
       "    </tr>\n",
       "    <tr>\n",
       "      <th>Family</th>\n",
       "      <td>6.482345</td>\n",
       "      <td>6.55</td>\n",
       "      <td>0.907281</td>\n",
       "    </tr>\n",
       "    <tr>\n",
       "      <th>Adventure</th>\n",
       "      <td>6.474122</td>\n",
       "      <td>6.50</td>\n",
       "      <td>0.863214</td>\n",
       "    </tr>\n",
       "    <tr>\n",
       "      <th>Mystery</th>\n",
       "      <td>6.436542</td>\n",
       "      <td>6.40</td>\n",
       "      <td>0.857114</td>\n",
       "    </tr>\n",
       "    <tr>\n",
       "      <th>Fantasy</th>\n",
       "      <td>6.424417</td>\n",
       "      <td>6.40</td>\n",
       "      <td>0.906270</td>\n",
       "    </tr>\n",
       "    <tr>\n",
       "      <th>Action</th>\n",
       "      <td>6.329773</td>\n",
       "      <td>6.30</td>\n",
       "      <td>0.895736</td>\n",
       "    </tr>\n",
       "    <tr>\n",
       "      <th>Comedy</th>\n",
       "      <td>6.326438</td>\n",
       "      <td>6.30</td>\n",
       "      <td>0.950028</td>\n",
       "    </tr>\n",
       "    <tr>\n",
       "      <th>TV Movie</th>\n",
       "      <td>6.316667</td>\n",
       "      <td>5.80</td>\n",
       "      <td>2.116995</td>\n",
       "    </tr>\n",
       "    <tr>\n",
       "      <th>Thriller</th>\n",
       "      <td>6.310683</td>\n",
       "      <td>6.30</td>\n",
       "      <td>0.865861</td>\n",
       "    </tr>\n",
       "    <tr>\n",
       "      <th>Science Fiction</th>\n",
       "      <td>6.299079</td>\n",
       "      <td>6.30</td>\n",
       "      <td>0.919607</td>\n",
       "    </tr>\n",
       "    <tr>\n",
       "      <th>Horror</th>\n",
       "      <td>6.007372</td>\n",
       "      <td>6.00</td>\n",
       "      <td>0.896776</td>\n",
       "    </tr>\n",
       "    <tr>\n",
       "      <th></th>\n",
       "      <td>5.292000</td>\n",
       "      <td>5.70</td>\n",
       "      <td>1.918315</td>\n",
       "    </tr>\n",
       "  </tbody>\n",
       "</table>\n",
       "</div>"
      ],
      "text/plain": [
       "                     mean  median       std\n",
       "gen                                        \n",
       "Documentary      7.105825    7.00  1.101410\n",
       "History          6.874551    7.00  0.768474\n",
       "Music            6.858654    6.85  0.870295\n",
       "War              6.823237    6.90  0.830286\n",
       "Animation        6.770460    6.80  0.835311\n",
       "Drama            6.728900    6.80  0.909742\n",
       "Western          6.713095    6.80  0.930058\n",
       "Crime            6.538831    6.50  0.890878\n",
       "Romance          6.530907    6.60  0.937084\n",
       "Family           6.482345    6.55  0.907281\n",
       "Adventure        6.474122    6.50  0.863214\n",
       "Mystery          6.436542    6.40  0.857114\n",
       "Fantasy          6.424417    6.40  0.906270\n",
       "Action           6.329773    6.30  0.895736\n",
       "Comedy           6.326438    6.30  0.950028\n",
       "TV Movie         6.316667    5.80  2.116995\n",
       "Thriller         6.310683    6.30  0.865861\n",
       "Science Fiction  6.299079    6.30  0.919607\n",
       "Horror           6.007372    6.00  0.896776\n",
       "                 5.292000    5.70  1.918315"
      ]
     },
     "execution_count": 52,
     "metadata": {},
     "output_type": "execute_result"
    }
   ],
   "source": [
    "df.join(gen).groupby('gen')['vote_average'].agg(['mean','median','std']).sort_values(by='mean', ascending=False)"
   ]
  },
  {
   "cell_type": "markdown",
   "metadata": {},
   "source": [
    "# Conclusion"
   ]
  },
  {
   "cell_type": "markdown",
   "metadata": {},
   "source": [
    "1. The movie industry is highly affected by COVID-19 in 2020, comparing the profit with previous years.\n",
    "2. Comedy, Thiller and Action movies are the most produced genres in mainstream movie market.\n",
    "3. Animation, Family and Horror movies have the highest median profit.\n",
    "4. The majority of movies are rated around 6-7. Documentary, History and Musicals are more highly rated."
   ]
  }
 ],
 "metadata": {
  "kernelspec": {
   "display_name": "Python 3",
   "language": "python",
   "name": "python3"
  },
  "language_info": {
   "codemirror_mode": {
    "name": "ipython",
    "version": 3
   },
   "file_extension": ".py",
   "mimetype": "text/x-python",
   "name": "python",
   "nbconvert_exporter": "python",
   "pygments_lexer": "ipython3",
   "version": "3.6.9"
  },
  "toc": {
   "base_numbering": 1,
   "nav_menu": {},
   "number_sections": true,
   "sideBar": true,
   "skip_h1_title": false,
   "title_cell": "Table of Contents",
   "title_sidebar": "Contents",
   "toc_cell": false,
   "toc_position": {},
   "toc_section_display": true,
   "toc_window_display": true
  }
 },
 "nbformat": 4,
 "nbformat_minor": 2
}
